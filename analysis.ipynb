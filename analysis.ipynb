{
 "cells": [
  {
   "cell_type": "markdown",
   "metadata": {},
   "source": [
    "# Analysis of Technology Stocks' Performance on 18th April 2019\n",
    "Source: Yahoo! Finance\n"
   ]
  },
  {
   "cell_type": "code",
   "execution_count": 1,
   "metadata": {},
   "outputs": [],
   "source": [
    "import pandas as pd\n",
    "import numpy as np\n",
    "from matplotlib import pyplot as plt"
   ]
  },
  {
   "cell_type": "code",
   "execution_count": 2,
   "metadata": {},
   "outputs": [],
   "source": [
    "tech_stocks = pd.read_csv('yahoofin.csv', index_col = 'symbol')"
   ]
  },
  {
   "cell_type": "markdown",
   "metadata": {},
   "source": [
    "A peek at the data:"
   ]
  },
  {
   "cell_type": "code",
   "execution_count": 3,
   "metadata": {
    "scrolled": true
   },
   "outputs": [
    {
     "data": {
      "text/html": [
       "<div>\n",
       "<style scoped>\n",
       "    .dataframe tbody tr th:only-of-type {\n",
       "        vertical-align: middle;\n",
       "    }\n",
       "\n",
       "    .dataframe tbody tr th {\n",
       "        vertical-align: top;\n",
       "    }\n",
       "\n",
       "    .dataframe thead th {\n",
       "        text-align: right;\n",
       "    }\n",
       "</style>\n",
       "<table border=\"1\" class=\"dataframe\">\n",
       "  <thead>\n",
       "    <tr style=\"text-align: right;\">\n",
       "      <th></th>\n",
       "      <th>beta_3y_mthly</th>\n",
       "      <th>change</th>\n",
       "      <th>market_cap</th>\n",
       "      <th>name</th>\n",
       "      <th>one_yr_target_est</th>\n",
       "      <th>pe_ratio</th>\n",
       "      <th>perc_change</th>\n",
       "      <th>price</th>\n",
       "      <th>volume</th>\n",
       "      <th>volume_3_mth_avg</th>\n",
       "    </tr>\n",
       "    <tr>\n",
       "      <th>symbol</th>\n",
       "      <th></th>\n",
       "      <th></th>\n",
       "      <th></th>\n",
       "      <th></th>\n",
       "      <th></th>\n",
       "      <th></th>\n",
       "      <th></th>\n",
       "      <th></th>\n",
       "      <th></th>\n",
       "      <th></th>\n",
       "    </tr>\n",
       "  </thead>\n",
       "  <tbody>\n",
       "    <tr>\n",
       "      <th>AAPL</th>\n",
       "      <td>0.91</td>\n",
       "      <td>0.73</td>\n",
       "      <td>961.257B</td>\n",
       "      <td>Apple Inc.</td>\n",
       "      <td>193.12</td>\n",
       "      <td>16.82</td>\n",
       "      <td>+0.36%</td>\n",
       "      <td>203.86</td>\n",
       "      <td>24.196M</td>\n",
       "      <td>28.307M</td>\n",
       "    </tr>\n",
       "    <tr>\n",
       "      <th>TXN</th>\n",
       "      <td>1.12</td>\n",
       "      <td>-0.09</td>\n",
       "      <td>108.42B</td>\n",
       "      <td>Texas Instruments Incorporated</td>\n",
       "      <td>109.32</td>\n",
       "      <td>20.65</td>\n",
       "      <td>-0.08%</td>\n",
       "      <td>115.51</td>\n",
       "      <td>4.196M</td>\n",
       "      <td>5.499M</td>\n",
       "    </tr>\n",
       "    <tr>\n",
       "      <th>NVDA</th>\n",
       "      <td>2.37</td>\n",
       "      <td>-0.99</td>\n",
       "      <td>113.362B</td>\n",
       "      <td>NVIDIA Corporation</td>\n",
       "      <td>183.19</td>\n",
       "      <td>28.10</td>\n",
       "      <td>-0.53%</td>\n",
       "      <td>186.30</td>\n",
       "      <td>9.525M</td>\n",
       "      <td>15.613M</td>\n",
       "    </tr>\n",
       "    <tr>\n",
       "      <th>ACN</th>\n",
       "      <td>1.14</td>\n",
       "      <td>-0.34</td>\n",
       "      <td>113.923B</td>\n",
       "      <td>Accenture plc</td>\n",
       "      <td>183.52</td>\n",
       "      <td>25.99</td>\n",
       "      <td>-0.19%</td>\n",
       "      <td>178.61</td>\n",
       "      <td>1.279M</td>\n",
       "      <td>1.976M</td>\n",
       "    </tr>\n",
       "    <tr>\n",
       "      <th>CRM</th>\n",
       "      <td>1.05</td>\n",
       "      <td>0.65</td>\n",
       "      <td>120.873B</td>\n",
       "      <td>salesforce.com, inc.</td>\n",
       "      <td>181.63</td>\n",
       "      <td>109.08</td>\n",
       "      <td>+0.42%</td>\n",
       "      <td>155.99</td>\n",
       "      <td>4.2M</td>\n",
       "      <td>5.305M</td>\n",
       "    </tr>\n",
       "  </tbody>\n",
       "</table>\n",
       "</div>"
      ],
      "text/plain": [
       "        beta_3y_mthly  change market_cap                            name  \\\n",
       "symbol                                                                     \n",
       "AAPL             0.91    0.73   961.257B                      Apple Inc.   \n",
       "TXN              1.12   -0.09    108.42B  Texas Instruments Incorporated   \n",
       "NVDA             2.37   -0.99   113.362B              NVIDIA Corporation   \n",
       "ACN              1.14   -0.34   113.923B                   Accenture plc   \n",
       "CRM              1.05    0.65   120.873B            salesforce.com, inc.   \n",
       "\n",
       "       one_yr_target_est  pe_ratio perc_change   price   volume  \\\n",
       "symbol                                                            \n",
       "AAPL              193.12     16.82      +0.36%  203.86  24.196M   \n",
       "TXN               109.32     20.65      -0.08%  115.51   4.196M   \n",
       "NVDA              183.19     28.10      -0.53%  186.30   9.525M   \n",
       "ACN               183.52     25.99      -0.19%  178.61   1.279M   \n",
       "CRM               181.63    109.08      +0.42%  155.99     4.2M   \n",
       "\n",
       "       volume_3_mth_avg  \n",
       "symbol                   \n",
       "AAPL            28.307M  \n",
       "TXN              5.499M  \n",
       "NVDA            15.613M  \n",
       "ACN              1.976M  \n",
       "CRM              5.305M  "
      ]
     },
     "execution_count": 3,
     "metadata": {},
     "output_type": "execute_result"
    }
   ],
   "source": [
    "tech_stocks.head()"
   ]
  },
  {
   "cell_type": "markdown",
   "metadata": {},
   "source": [
    "Reordering columns:"
   ]
  },
  {
   "cell_type": "code",
   "execution_count": 4,
   "metadata": {},
   "outputs": [],
   "source": [
    "tech_stocks = tech_stocks[['name', 'price', 'change', 'perc_change', 'volume', 'volume_3_mth_avg', 'market_cap', 'pe_ratio', 'beta_3y_mthly', 'one_yr_target_est']]"
   ]
  },
  {
   "cell_type": "code",
   "execution_count": 5,
   "metadata": {},
   "outputs": [
    {
     "data": {
      "text/html": [
       "<div>\n",
       "<style scoped>\n",
       "    .dataframe tbody tr th:only-of-type {\n",
       "        vertical-align: middle;\n",
       "    }\n",
       "\n",
       "    .dataframe tbody tr th {\n",
       "        vertical-align: top;\n",
       "    }\n",
       "\n",
       "    .dataframe thead th {\n",
       "        text-align: right;\n",
       "    }\n",
       "</style>\n",
       "<table border=\"1\" class=\"dataframe\">\n",
       "  <thead>\n",
       "    <tr style=\"text-align: right;\">\n",
       "      <th></th>\n",
       "      <th>name</th>\n",
       "      <th>price</th>\n",
       "      <th>change</th>\n",
       "      <th>perc_change</th>\n",
       "      <th>volume</th>\n",
       "      <th>volume_3_mth_avg</th>\n",
       "      <th>market_cap</th>\n",
       "      <th>pe_ratio</th>\n",
       "      <th>beta_3y_mthly</th>\n",
       "      <th>one_yr_target_est</th>\n",
       "    </tr>\n",
       "    <tr>\n",
       "      <th>symbol</th>\n",
       "      <th></th>\n",
       "      <th></th>\n",
       "      <th></th>\n",
       "      <th></th>\n",
       "      <th></th>\n",
       "      <th></th>\n",
       "      <th></th>\n",
       "      <th></th>\n",
       "      <th></th>\n",
       "      <th></th>\n",
       "    </tr>\n",
       "  </thead>\n",
       "  <tbody>\n",
       "    <tr>\n",
       "      <th>AAPL</th>\n",
       "      <td>Apple Inc.</td>\n",
       "      <td>203.86</td>\n",
       "      <td>0.73</td>\n",
       "      <td>+0.36%</td>\n",
       "      <td>24.196M</td>\n",
       "      <td>28.307M</td>\n",
       "      <td>961.257B</td>\n",
       "      <td>16.82</td>\n",
       "      <td>0.91</td>\n",
       "      <td>193.12</td>\n",
       "    </tr>\n",
       "    <tr>\n",
       "      <th>TXN</th>\n",
       "      <td>Texas Instruments Incorporated</td>\n",
       "      <td>115.51</td>\n",
       "      <td>-0.09</td>\n",
       "      <td>-0.08%</td>\n",
       "      <td>4.196M</td>\n",
       "      <td>5.499M</td>\n",
       "      <td>108.42B</td>\n",
       "      <td>20.65</td>\n",
       "      <td>1.12</td>\n",
       "      <td>109.32</td>\n",
       "    </tr>\n",
       "    <tr>\n",
       "      <th>NVDA</th>\n",
       "      <td>NVIDIA Corporation</td>\n",
       "      <td>186.30</td>\n",
       "      <td>-0.99</td>\n",
       "      <td>-0.53%</td>\n",
       "      <td>9.525M</td>\n",
       "      <td>15.613M</td>\n",
       "      <td>113.362B</td>\n",
       "      <td>28.10</td>\n",
       "      <td>2.37</td>\n",
       "      <td>183.19</td>\n",
       "    </tr>\n",
       "    <tr>\n",
       "      <th>ACN</th>\n",
       "      <td>Accenture plc</td>\n",
       "      <td>178.61</td>\n",
       "      <td>-0.34</td>\n",
       "      <td>-0.19%</td>\n",
       "      <td>1.279M</td>\n",
       "      <td>1.976M</td>\n",
       "      <td>113.923B</td>\n",
       "      <td>25.99</td>\n",
       "      <td>1.14</td>\n",
       "      <td>183.52</td>\n",
       "    </tr>\n",
       "    <tr>\n",
       "      <th>CRM</th>\n",
       "      <td>salesforce.com, inc.</td>\n",
       "      <td>155.99</td>\n",
       "      <td>0.65</td>\n",
       "      <td>+0.42%</td>\n",
       "      <td>4.2M</td>\n",
       "      <td>5.305M</td>\n",
       "      <td>120.873B</td>\n",
       "      <td>109.08</td>\n",
       "      <td>1.05</td>\n",
       "      <td>181.63</td>\n",
       "    </tr>\n",
       "    <tr>\n",
       "      <th>IBM</th>\n",
       "      <td>International Business Machines Corporation</td>\n",
       "      <td>140.33</td>\n",
       "      <td>1.22</td>\n",
       "      <td>+0.88%</td>\n",
       "      <td>4.705M</td>\n",
       "      <td>4.254M</td>\n",
       "      <td>124.875B</td>\n",
       "      <td>14.77</td>\n",
       "      <td>1.68</td>\n",
       "      <td>143.72</td>\n",
       "    </tr>\n",
       "    <tr>\n",
       "      <th>AVGO</th>\n",
       "      <td>Broadcom Inc.</td>\n",
       "      <td>318.62</td>\n",
       "      <td>-1.91</td>\n",
       "      <td>-0.60%</td>\n",
       "      <td>2.655M</td>\n",
       "      <td>2.694M</td>\n",
       "      <td>126.124B</td>\n",
       "      <td>21.04</td>\n",
       "      <td>0.27</td>\n",
       "      <td>312.45</td>\n",
       "    </tr>\n",
       "    <tr>\n",
       "      <th>ADBE</th>\n",
       "      <td>Adobe Inc.</td>\n",
       "      <td>270.57</td>\n",
       "      <td>1.12</td>\n",
       "      <td>+0.42%</td>\n",
       "      <td>2.029M</td>\n",
       "      <td>2.871M</td>\n",
       "      <td>132.025B</td>\n",
       "      <td>50.20</td>\n",
       "      <td>1.03</td>\n",
       "      <td>292.67</td>\n",
       "    </tr>\n",
       "    <tr>\n",
       "      <th>SAP</th>\n",
       "      <td>SAP SE</td>\n",
       "      <td>112.97</td>\n",
       "      <td>0.66</td>\n",
       "      <td>+0.59%</td>\n",
       "      <td>481,087</td>\n",
       "      <td>722,966</td>\n",
       "      <td>135.003B</td>\n",
       "      <td>27.29</td>\n",
       "      <td>0.86</td>\n",
       "      <td>122.47</td>\n",
       "    </tr>\n",
       "    <tr>\n",
       "      <th>ORCL</th>\n",
       "      <td>Oracle Corporation</td>\n",
       "      <td>54.52</td>\n",
       "      <td>0.04</td>\n",
       "      <td>+0.07%</td>\n",
       "      <td>8.021M</td>\n",
       "      <td>14.265M</td>\n",
       "      <td>186.33B</td>\n",
       "      <td>19.53</td>\n",
       "      <td>1.04</td>\n",
       "      <td>53.07</td>\n",
       "    </tr>\n",
       "  </tbody>\n",
       "</table>\n",
       "</div>"
      ],
      "text/plain": [
       "                                               name   price  change  \\\n",
       "symbol                                                                \n",
       "AAPL                                     Apple Inc.  203.86    0.73   \n",
       "TXN                  Texas Instruments Incorporated  115.51   -0.09   \n",
       "NVDA                             NVIDIA Corporation  186.30   -0.99   \n",
       "ACN                                   Accenture plc  178.61   -0.34   \n",
       "CRM                            salesforce.com, inc.  155.99    0.65   \n",
       "IBM     International Business Machines Corporation  140.33    1.22   \n",
       "AVGO                                  Broadcom Inc.  318.62   -1.91   \n",
       "ADBE                                     Adobe Inc.  270.57    1.12   \n",
       "SAP                                          SAP SE  112.97    0.66   \n",
       "ORCL                             Oracle Corporation   54.52    0.04   \n",
       "\n",
       "       perc_change   volume volume_3_mth_avg market_cap  pe_ratio  \\\n",
       "symbol                                                              \n",
       "AAPL        +0.36%  24.196M          28.307M   961.257B     16.82   \n",
       "TXN         -0.08%   4.196M           5.499M    108.42B     20.65   \n",
       "NVDA        -0.53%   9.525M          15.613M   113.362B     28.10   \n",
       "ACN         -0.19%   1.279M           1.976M   113.923B     25.99   \n",
       "CRM         +0.42%     4.2M           5.305M   120.873B    109.08   \n",
       "IBM         +0.88%   4.705M           4.254M   124.875B     14.77   \n",
       "AVGO        -0.60%   2.655M           2.694M   126.124B     21.04   \n",
       "ADBE        +0.42%   2.029M           2.871M   132.025B     50.20   \n",
       "SAP         +0.59%  481,087          722,966   135.003B     27.29   \n",
       "ORCL        +0.07%   8.021M          14.265M    186.33B     19.53   \n",
       "\n",
       "        beta_3y_mthly one_yr_target_est  \n",
       "symbol                                   \n",
       "AAPL             0.91            193.12  \n",
       "TXN              1.12            109.32  \n",
       "NVDA             2.37            183.19  \n",
       "ACN              1.14            183.52  \n",
       "CRM              1.05            181.63  \n",
       "IBM              1.68            143.72  \n",
       "AVGO             0.27            312.45  \n",
       "ADBE             1.03            292.67  \n",
       "SAP              0.86            122.47  \n",
       "ORCL             1.04             53.07  "
      ]
     },
     "execution_count": 5,
     "metadata": {},
     "output_type": "execute_result"
    }
   ],
   "source": [
    "tech_stocks.head(10)"
   ]
  },
  {
   "cell_type": "code",
   "execution_count": 6,
   "metadata": {},
   "outputs": [
    {
     "data": {
      "text/plain": [
       "(467, 10)"
      ]
     },
     "execution_count": 6,
     "metadata": {},
     "output_type": "execute_result"
    }
   ],
   "source": [
    "tech_stocks.shape"
   ]
  },
  {
   "cell_type": "markdown",
   "metadata": {},
   "source": [
    "There are 467 stocks. Performance is captured on 9 variables excluding name."
   ]
  },
  {
   "cell_type": "code",
   "execution_count": 7,
   "metadata": {},
   "outputs": [
    {
     "data": {
      "text/plain": [
       "name                  object\n",
       "price                 object\n",
       "change               float64\n",
       "perc_change           object\n",
       "volume                object\n",
       "volume_3_mth_avg      object\n",
       "market_cap            object\n",
       "pe_ratio             float64\n",
       "beta_3y_mthly        float64\n",
       "one_yr_target_est     object\n",
       "dtype: object"
      ]
     },
     "execution_count": 7,
     "metadata": {},
     "output_type": "execute_result"
    }
   ],
   "source": [
    "tech_stocks.dtypes"
   ]
  },
  {
   "cell_type": "markdown",
   "metadata": {},
   "source": [
    "### Converting strings values into float:"
   ]
  },
  {
   "cell_type": "code",
   "execution_count": 8,
   "metadata": {},
   "outputs": [],
   "source": [
    "tech_stocks.price = tech_stocks.price.str.replace(',', '').astype(float)"
   ]
  },
  {
   "cell_type": "code",
   "execution_count": 9,
   "metadata": {},
   "outputs": [],
   "source": [
    "tech_stocks.perc_change = tech_stocks.perc_change.str.replace('%', '').astype(float)"
   ]
  },
  {
   "cell_type": "code",
   "execution_count": 10,
   "metadata": {},
   "outputs": [],
   "source": [
    "tech_stocks.volume = tech_stocks.volume.str.replace(',', '')\n",
    "tech_stocks.volume = [float(x.replace('M', ''))*1000000 if 'M' in x else float(x) for x in tech_stocks.volume]"
   ]
  },
  {
   "cell_type": "markdown",
   "metadata": {},
   "source": [
    "Some columns have a mix of M (for mn), B (for bn) and normal values. Bringing them into same denomination."
   ]
  },
  {
   "cell_type": "code",
   "execution_count": 11,
   "metadata": {},
   "outputs": [],
   "source": [
    "tech_stocks.volume_3_mth_avg = tech_stocks.volume_3_mth_avg.str.replace(',', '')\n",
    "tech_stocks.volume_3_mth_avg = [float(x.replace('M', ''))*1000000 if 'M' in x else float(x) for x in tech_stocks.volume_3_mth_avg]"
   ]
  },
  {
   "cell_type": "code",
   "execution_count": 12,
   "metadata": {},
   "outputs": [],
   "source": [
    "tech_stocks.market_cap = tech_stocks.market_cap.str.replace(',', '')\n",
    "tech_stocks.market_cap = [float(x.replace('M', ''))*1000000 if 'M' in x else float(x.replace('B', ''))*1000000000 if 'B' in x else float(x) for x in tech_stocks.market_cap]"
   ]
  },
  {
   "cell_type": "code",
   "execution_count": 13,
   "metadata": {},
   "outputs": [],
   "source": [
    "tech_stocks.one_yr_target_est = tech_stocks.one_yr_target_est.str.replace(',', '').astype(float)"
   ]
  },
  {
   "cell_type": "code",
   "execution_count": 14,
   "metadata": {
    "scrolled": true
   },
   "outputs": [
    {
     "data": {
      "text/html": [
       "<div>\n",
       "<style scoped>\n",
       "    .dataframe tbody tr th:only-of-type {\n",
       "        vertical-align: middle;\n",
       "    }\n",
       "\n",
       "    .dataframe tbody tr th {\n",
       "        vertical-align: top;\n",
       "    }\n",
       "\n",
       "    .dataframe thead th {\n",
       "        text-align: right;\n",
       "    }\n",
       "</style>\n",
       "<table border=\"1\" class=\"dataframe\">\n",
       "  <thead>\n",
       "    <tr style=\"text-align: right;\">\n",
       "      <th></th>\n",
       "      <th>name</th>\n",
       "      <th>price</th>\n",
       "      <th>change</th>\n",
       "      <th>perc_change</th>\n",
       "      <th>volume</th>\n",
       "      <th>volume_3_mth_avg</th>\n",
       "      <th>market_cap</th>\n",
       "      <th>pe_ratio</th>\n",
       "      <th>beta_3y_mthly</th>\n",
       "      <th>one_yr_target_est</th>\n",
       "    </tr>\n",
       "    <tr>\n",
       "      <th>symbol</th>\n",
       "      <th></th>\n",
       "      <th></th>\n",
       "      <th></th>\n",
       "      <th></th>\n",
       "      <th></th>\n",
       "      <th></th>\n",
       "      <th></th>\n",
       "      <th></th>\n",
       "      <th></th>\n",
       "      <th></th>\n",
       "    </tr>\n",
       "  </thead>\n",
       "  <tbody>\n",
       "    <tr>\n",
       "      <th>WDC</th>\n",
       "      <td>Western Digital Corporation</td>\n",
       "      <td>55.39</td>\n",
       "      <td>0.94</td>\n",
       "      <td>1.73</td>\n",
       "      <td>5652000.0</td>\n",
       "      <td>7160000.0</td>\n",
       "      <td>1.611000e+10</td>\n",
       "      <td>20.26</td>\n",
       "      <td>1.72</td>\n",
       "      <td>58.52</td>\n",
       "    </tr>\n",
       "    <tr>\n",
       "      <th>MRCY</th>\n",
       "      <td>Mercury Systems, Inc.</td>\n",
       "      <td>67.25</td>\n",
       "      <td>0.55</td>\n",
       "      <td>0.82</td>\n",
       "      <td>152648.0</td>\n",
       "      <td>335075.0</td>\n",
       "      <td>3.259000e+09</td>\n",
       "      <td>94.72</td>\n",
       "      <td>1.58</td>\n",
       "      <td>60.88</td>\n",
       "    </tr>\n",
       "    <tr>\n",
       "      <th>DAKT</th>\n",
       "      <td>Daktronics, Inc.</td>\n",
       "      <td>7.57</td>\n",
       "      <td>0.01</td>\n",
       "      <td>0.13</td>\n",
       "      <td>69826.0</td>\n",
       "      <td>132095.0</td>\n",
       "      <td>3.407450e+08</td>\n",
       "      <td>57.79</td>\n",
       "      <td>0.90</td>\n",
       "      <td>9.50</td>\n",
       "    </tr>\n",
       "    <tr>\n",
       "      <th>ATHM</th>\n",
       "      <td>Autohome Inc.</td>\n",
       "      <td>113.26</td>\n",
       "      <td>1.12</td>\n",
       "      <td>1.00</td>\n",
       "      <td>745408.0</td>\n",
       "      <td>1029000.0</td>\n",
       "      <td>1.340800e+10</td>\n",
       "      <td>34.34</td>\n",
       "      <td>0.89</td>\n",
       "      <td>97.66</td>\n",
       "    </tr>\n",
       "    <tr>\n",
       "      <th>BCOV</th>\n",
       "      <td>Brightcove Inc.</td>\n",
       "      <td>8.39</td>\n",
       "      <td>0.09</td>\n",
       "      <td>1.08</td>\n",
       "      <td>68437.0</td>\n",
       "      <td>114775.0</td>\n",
       "      <td>3.174300e+08</td>\n",
       "      <td>NaN</td>\n",
       "      <td>0.25</td>\n",
       "      <td>12.25</td>\n",
       "    </tr>\n",
       "    <tr>\n",
       "      <th>AVGO</th>\n",
       "      <td>Broadcom Inc.</td>\n",
       "      <td>318.62</td>\n",
       "      <td>-1.91</td>\n",
       "      <td>-0.60</td>\n",
       "      <td>2655000.0</td>\n",
       "      <td>2694000.0</td>\n",
       "      <td>1.261240e+11</td>\n",
       "      <td>21.04</td>\n",
       "      <td>0.27</td>\n",
       "      <td>312.45</td>\n",
       "    </tr>\n",
       "    <tr>\n",
       "      <th>SINA</th>\n",
       "      <td>SINA Corporation</td>\n",
       "      <td>65.11</td>\n",
       "      <td>0.37</td>\n",
       "      <td>0.57</td>\n",
       "      <td>415795.0</td>\n",
       "      <td>794012.0</td>\n",
       "      <td>4.653000e+09</td>\n",
       "      <td>38.30</td>\n",
       "      <td>1.30</td>\n",
       "      <td>80.79</td>\n",
       "    </tr>\n",
       "    <tr>\n",
       "      <th>RNG</th>\n",
       "      <td>RingCentral, Inc.</td>\n",
       "      <td>105.50</td>\n",
       "      <td>1.29</td>\n",
       "      <td>1.24</td>\n",
       "      <td>785068.0</td>\n",
       "      <td>842254.0</td>\n",
       "      <td>8.635000e+09</td>\n",
       "      <td>NaN</td>\n",
       "      <td>1.30</td>\n",
       "      <td>115.47</td>\n",
       "    </tr>\n",
       "    <tr>\n",
       "      <th>DSGX</th>\n",
       "      <td>The Descartes Systems Group Inc</td>\n",
       "      <td>37.71</td>\n",
       "      <td>-0.06</td>\n",
       "      <td>-0.16</td>\n",
       "      <td>61969.0</td>\n",
       "      <td>112587.0</td>\n",
       "      <td>2.907000e+09</td>\n",
       "      <td>94.27</td>\n",
       "      <td>1.09</td>\n",
       "      <td>38.74</td>\n",
       "    </tr>\n",
       "    <tr>\n",
       "      <th>AAPL</th>\n",
       "      <td>Apple Inc.</td>\n",
       "      <td>203.86</td>\n",
       "      <td>0.73</td>\n",
       "      <td>0.36</td>\n",
       "      <td>24196000.0</td>\n",
       "      <td>28307000.0</td>\n",
       "      <td>9.612570e+11</td>\n",
       "      <td>16.82</td>\n",
       "      <td>0.91</td>\n",
       "      <td>193.12</td>\n",
       "    </tr>\n",
       "  </tbody>\n",
       "</table>\n",
       "</div>"
      ],
      "text/plain": [
       "                                   name   price  change  perc_change  \\\n",
       "symbol                                                                 \n",
       "WDC         Western Digital Corporation   55.39    0.94         1.73   \n",
       "MRCY              Mercury Systems, Inc.   67.25    0.55         0.82   \n",
       "DAKT                   Daktronics, Inc.    7.57    0.01         0.13   \n",
       "ATHM                      Autohome Inc.  113.26    1.12         1.00   \n",
       "BCOV                    Brightcove Inc.    8.39    0.09         1.08   \n",
       "AVGO                      Broadcom Inc.  318.62   -1.91        -0.60   \n",
       "SINA                   SINA Corporation   65.11    0.37         0.57   \n",
       "RNG                   RingCentral, Inc.  105.50    1.29         1.24   \n",
       "DSGX    The Descartes Systems Group Inc   37.71   -0.06        -0.16   \n",
       "AAPL                         Apple Inc.  203.86    0.73         0.36   \n",
       "\n",
       "            volume  volume_3_mth_avg    market_cap  pe_ratio  beta_3y_mthly  \\\n",
       "symbol                                                                        \n",
       "WDC      5652000.0         7160000.0  1.611000e+10     20.26           1.72   \n",
       "MRCY      152648.0          335075.0  3.259000e+09     94.72           1.58   \n",
       "DAKT       69826.0          132095.0  3.407450e+08     57.79           0.90   \n",
       "ATHM      745408.0         1029000.0  1.340800e+10     34.34           0.89   \n",
       "BCOV       68437.0          114775.0  3.174300e+08       NaN           0.25   \n",
       "AVGO     2655000.0         2694000.0  1.261240e+11     21.04           0.27   \n",
       "SINA      415795.0          794012.0  4.653000e+09     38.30           1.30   \n",
       "RNG       785068.0          842254.0  8.635000e+09       NaN           1.30   \n",
       "DSGX       61969.0          112587.0  2.907000e+09     94.27           1.09   \n",
       "AAPL    24196000.0        28307000.0  9.612570e+11     16.82           0.91   \n",
       "\n",
       "        one_yr_target_est  \n",
       "symbol                     \n",
       "WDC                 58.52  \n",
       "MRCY                60.88  \n",
       "DAKT                 9.50  \n",
       "ATHM                97.66  \n",
       "BCOV                12.25  \n",
       "AVGO               312.45  \n",
       "SINA                80.79  \n",
       "RNG                115.47  \n",
       "DSGX                38.74  \n",
       "AAPL               193.12  "
      ]
     },
     "execution_count": 14,
     "metadata": {},
     "output_type": "execute_result"
    }
   ],
   "source": [
    "tech_stocks.sample(10)"
   ]
  },
  {
   "cell_type": "markdown",
   "metadata": {},
   "source": [
    "### Sanity check of conversions"
   ]
  },
  {
   "cell_type": "code",
   "execution_count": 15,
   "metadata": {},
   "outputs": [
    {
     "data": {
      "text/plain": [
       "name                  object\n",
       "price                float64\n",
       "change               float64\n",
       "perc_change          float64\n",
       "volume               float64\n",
       "volume_3_mth_avg     float64\n",
       "market_cap           float64\n",
       "pe_ratio             float64\n",
       "beta_3y_mthly        float64\n",
       "one_yr_target_est    float64\n",
       "dtype: object"
      ]
     },
     "execution_count": 15,
     "metadata": {},
     "output_type": "execute_result"
    }
   ],
   "source": [
    "# Confirming if all data types are as required\n",
    "tech_stocks.dtypes"
   ]
  },
  {
   "cell_type": "code",
   "execution_count": 16,
   "metadata": {},
   "outputs": [
    {
     "name": "stdout",
     "output_type": "stream",
     "text": [
      "symbol\n",
      "SAP    481087.0\n",
      "Name: volume, dtype: float64\n",
      "symbol\n",
      "IBM    4705000.0\n",
      "Name: volume, dtype: float64\n"
     ]
    }
   ],
   "source": [
    "print(tech_stocks.volume[tech_stocks.index == 'SAP'])\n",
    "print(tech_stocks.volume[tech_stocks.index == 'IBM'])"
   ]
  },
  {
   "cell_type": "code",
   "execution_count": 17,
   "metadata": {},
   "outputs": [
    {
     "name": "stdout",
     "output_type": "stream",
     "text": [
      "symbol\n",
      "FTV-PA    9215.0\n",
      "Name: volume_3_mth_avg, dtype: float64\n",
      "symbol\n",
      "NXPI    3779000.0\n",
      "Name: volume_3_mth_avg, dtype: float64\n"
     ]
    }
   ],
   "source": [
    "print(tech_stocks.volume_3_mth_avg[tech_stocks.index == 'FTV-PA'])\n",
    "print(tech_stocks.volume_3_mth_avg[tech_stocks.index == 'NXPI'])"
   ]
  },
  {
   "cell_type": "code",
   "execution_count": 18,
   "metadata": {},
   "outputs": [
    {
     "name": "stdout",
     "output_type": "stream",
     "text": [
      "symbol\n",
      "MINDP    46660000.0\n",
      "Name: market_cap, dtype: float64\n",
      "symbol\n",
      "AAPL    9.612570e+11\n",
      "Name: market_cap, dtype: float64\n"
     ]
    }
   ],
   "source": [
    "print(tech_stocks.market_cap[tech_stocks.index == 'MINDP'])\n",
    "print(tech_stocks.market_cap[tech_stocks.index == 'AAPL'])"
   ]
  },
  {
   "cell_type": "code",
   "execution_count": 19,
   "metadata": {},
   "outputs": [
    {
     "data": {
      "text/plain": [
       "price                1.241470e+03\n",
       "change               6.000000e+00\n",
       "perc_change          1.536000e+01\n",
       "volume               3.913700e+07\n",
       "volume_3_mth_avg     7.733600e+07\n",
       "market_cap           9.612570e+11\n",
       "pe_ratio             9.537500e+02\n",
       "beta_3y_mthly        4.050000e+00\n",
       "one_yr_target_est    2.446300e+03\n",
       "dtype: float64"
      ]
     },
     "execution_count": 19,
     "metadata": {},
     "output_type": "execute_result"
    }
   ],
   "source": [
    "# Highest value in each variable\n",
    "tech_stocks.iloc[: , 1:].apply(lambda x: max(x), axis=0)"
   ]
  },
  {
   "cell_type": "markdown",
   "metadata": {},
   "source": [
    "-----------------"
   ]
  },
  {
   "cell_type": "markdown",
   "metadata": {},
   "source": [
    "## Percentage Change over Previous Day"
   ]
  },
  {
   "cell_type": "markdown",
   "metadata": {},
   "source": [
    "It was not a good day for the technology stocks. \n",
    "* 242 stocks out of 467 had negative returns.\n",
    "* Mean percentage change over previous day was -0.24% (with a standard deviation of 2.17%)."
   ]
  },
  {
   "cell_type": "markdown",
   "metadata": {},
   "source": [
    "Top Gainers of the Day:"
   ]
  },
  {
   "cell_type": "code",
   "execution_count": 20,
   "metadata": {},
   "outputs": [
    {
     "data": {
      "text/plain": [
       "Text(0, 0.5, 'percent change')"
      ]
     },
     "execution_count": 20,
     "metadata": {},
     "output_type": "execute_result"
    },
    {
     "data": {
      "image/png": "[encoded data removed]",
      "text/plain": [
       "<Figure size 432x288 with 1 Axes>"
      ]
     },
     "metadata": {
      "needs_background": "light"
     },
     "output_type": "display_data"
    }
   ],
   "source": [
    "tech_stocks.perc_change.sort_values(ascending=False).head().plot(y= 'perc_change', kind='bar', title= 'Top Gainers')\n",
    "plt.ylabel('percent change')"
   ]
  },
  {
   "cell_type": "markdown",
   "metadata": {},
   "source": [
    "Top Losers of the Day:"
   ]
  },
  {
   "cell_type": "code",
   "execution_count": 21,
   "metadata": {},
   "outputs": [
    {
     "data": {
      "text/plain": [
       "(0, -30)"
      ]
     },
     "execution_count": 21,
     "metadata": {},
     "output_type": "execute_result"
    },
    {
     "data": {
      "image/png": "[encoded data removed]",
      "text/plain": [
       "<Figure size 432x288 with 1 Axes>"
      ]
     },
     "metadata": {
      "needs_background": "light"
     },
     "output_type": "display_data"
    }
   ],
   "source": [
    "tech_stocks.perc_change.sort_values().head().plot(y= 'perc_change', kind='bar', title= 'Top Losers')\n",
    "plt.ylabel('percent change')\n",
    "plt.ylim([0, -30])"
   ]
  },
  {
   "cell_type": "code",
   "execution_count": 49,
   "metadata": {},
   "outputs": [
    {
     "data": {
      "text/plain": [
       "Text(0.5, 0, 'Percentage Change')"
      ]
     },
     "execution_count": 49,
     "metadata": {},
     "output_type": "execute_result"
    },
    {
     "data": {
      "image/png": "[encoded data removed]",
      "text/plain": [
       "<Figure size 432x288 with 1 Axes>"
      ]
     },
     "metadata": {
      "needs_background": "light"
     },
     "output_type": "display_data"
    }
   ],
   "source": [
    "# Distribution of percentage change\n",
    "tech_stocks.plot(y = 'perc_change', kind = 'hist', bins = 30)\n",
    "plt.xlabel('Percentage Change')"
   ]
  },
  {
   "cell_type": "markdown",
   "metadata": {},
   "source": [
    "Except for a few outliers, most of the stocks were in the range -5% to +5%. Plotting in this range:"
   ]
  },
  {
   "cell_type": "code",
   "execution_count": 50,
   "metadata": {},
   "outputs": [
    {
     "data": {
      "text/plain": [
       "Text(0.5, 0, 'Percentage Change')"
      ]
     },
     "execution_count": 50,
     "metadata": {},
     "output_type": "execute_result"
    },
    {
     "data": {
      "image/png": "[encoded data removed]",
      "text/plain": [
       "<Figure size 432x288 with 1 Axes>"
      ]
     },
     "metadata": {
      "needs_background": "light"
     },
     "output_type": "display_data"
    }
   ],
   "source": [
    "from matplotlib import pyplot as plt\n",
    "plt.hist(tech_stocks.perc_change, bins = 30)\n",
    "plt.xlim(-5, +5)\n",
    "plt.xlabel('Percentage Change')"
   ]
  },
  {
   "cell_type": "markdown",
   "metadata": {},
   "source": [
    "There is a slight skew to left, showing that even after excluding outliers more stocks had a -ve price change."
   ]
  },
  {
   "cell_type": "code",
   "execution_count": 25,
   "metadata": {},
   "outputs": [
    {
     "name": "stdout",
     "output_type": "stream",
     "text": [
      "9\n"
     ]
    },
    {
     "data": {
      "text/html": [
       "<div>\n",
       "<style scoped>\n",
       "    .dataframe tbody tr th:only-of-type {\n",
       "        vertical-align: middle;\n",
       "    }\n",
       "\n",
       "    .dataframe tbody tr th {\n",
       "        vertical-align: top;\n",
       "    }\n",
       "\n",
       "    .dataframe thead th {\n",
       "        text-align: right;\n",
       "    }\n",
       "</style>\n",
       "<table border=\"1\" class=\"dataframe\">\n",
       "  <thead>\n",
       "    <tr style=\"text-align: right;\">\n",
       "      <th></th>\n",
       "      <th>name</th>\n",
       "      <th>price</th>\n",
       "      <th>change</th>\n",
       "      <th>perc_change</th>\n",
       "      <th>volume</th>\n",
       "      <th>volume_3_mth_avg</th>\n",
       "      <th>market_cap</th>\n",
       "      <th>pe_ratio</th>\n",
       "      <th>beta_3y_mthly</th>\n",
       "      <th>one_yr_target_est</th>\n",
       "    </tr>\n",
       "    <tr>\n",
       "      <th>symbol</th>\n",
       "      <th></th>\n",
       "      <th></th>\n",
       "      <th></th>\n",
       "      <th></th>\n",
       "      <th></th>\n",
       "      <th></th>\n",
       "      <th></th>\n",
       "      <th></th>\n",
       "      <th></th>\n",
       "      <th></th>\n",
       "    </tr>\n",
       "  </thead>\n",
       "  <tbody>\n",
       "    <tr>\n",
       "      <th>STNE</th>\n",
       "      <td>StoneCo Ltd.</td>\n",
       "      <td>26.51</td>\n",
       "      <td>-8.23</td>\n",
       "      <td>-23.69</td>\n",
       "      <td>32482000.0</td>\n",
       "      <td>2961000.0</td>\n",
       "      <td>7.354000e+09</td>\n",
       "      <td>141.01</td>\n",
       "      <td>NaN</td>\n",
       "      <td>33.31</td>\n",
       "    </tr>\n",
       "    <tr>\n",
       "      <th>PAGS</th>\n",
       "      <td>PagSeguro Digital Ltd.</td>\n",
       "      <td>25.30</td>\n",
       "      <td>-2.73</td>\n",
       "      <td>-9.74</td>\n",
       "      <td>13048000.0</td>\n",
       "      <td>2291000.0</td>\n",
       "      <td>8.280000e+09</td>\n",
       "      <td>36.35</td>\n",
       "      <td>NaN</td>\n",
       "      <td>31.31</td>\n",
       "    </tr>\n",
       "    <tr>\n",
       "      <th>PLXS</th>\n",
       "      <td>Plexus Corp.</td>\n",
       "      <td>61.05</td>\n",
       "      <td>-4.86</td>\n",
       "      <td>-7.37</td>\n",
       "      <td>354697.0</td>\n",
       "      <td>164262.0</td>\n",
       "      <td>1.887000e+09</td>\n",
       "      <td>15.36</td>\n",
       "      <td>1.11</td>\n",
       "      <td>69.00</td>\n",
       "    </tr>\n",
       "    <tr>\n",
       "      <th>ADTN</th>\n",
       "      <td>ADTRAN, Inc.</td>\n",
       "      <td>16.59</td>\n",
       "      <td>2.04</td>\n",
       "      <td>14.02</td>\n",
       "      <td>2003000.0</td>\n",
       "      <td>365724.0</td>\n",
       "      <td>7.926200e+08</td>\n",
       "      <td>NaN</td>\n",
       "      <td>1.81</td>\n",
       "      <td>15.25</td>\n",
       "    </tr>\n",
       "    <tr>\n",
       "      <th>VIOT</th>\n",
       "      <td>Viomi Technology Co., Ltd</td>\n",
       "      <td>15.25</td>\n",
       "      <td>2.03</td>\n",
       "      <td>15.36</td>\n",
       "      <td>563320.0</td>\n",
       "      <td>105412.0</td>\n",
       "      <td>1.056000e+09</td>\n",
       "      <td>NaN</td>\n",
       "      <td>NaN</td>\n",
       "      <td>11.23</td>\n",
       "    </tr>\n",
       "    <tr>\n",
       "      <th>DAVA</th>\n",
       "      <td>Endava plc</td>\n",
       "      <td>30.00</td>\n",
       "      <td>2.10</td>\n",
       "      <td>7.53</td>\n",
       "      <td>2021000.0</td>\n",
       "      <td>47641.0</td>\n",
       "      <td>1.487000e+09</td>\n",
       "      <td>71.60</td>\n",
       "      <td>NaN</td>\n",
       "      <td>2446.30</td>\n",
       "    </tr>\n",
       "    <tr>\n",
       "      <th>ARCE</th>\n",
       "      <td>Arco Platform Limited</td>\n",
       "      <td>30.43</td>\n",
       "      <td>-2.22</td>\n",
       "      <td>-6.80</td>\n",
       "      <td>31007.0</td>\n",
       "      <td>64422.0</td>\n",
       "      <td>1.529000e+09</td>\n",
       "      <td>596.67</td>\n",
       "      <td>NaN</td>\n",
       "      <td>30.87</td>\n",
       "    </tr>\n",
       "    <tr>\n",
       "      <th>CHKP</th>\n",
       "      <td>Check Point Software Technologies Ltd.</td>\n",
       "      <td>119.99</td>\n",
       "      <td>-9.54</td>\n",
       "      <td>-7.37</td>\n",
       "      <td>5043000.0</td>\n",
       "      <td>948116.0</td>\n",
       "      <td>1.874400e+10</td>\n",
       "      <td>23.30</td>\n",
       "      <td>0.70</td>\n",
       "      <td>121.33</td>\n",
       "    </tr>\n",
       "    <tr>\n",
       "      <th>TEAM</th>\n",
       "      <td>Atlassian Corporation Plc</td>\n",
       "      <td>101.94</td>\n",
       "      <td>-9.25</td>\n",
       "      <td>-8.32</td>\n",
       "      <td>7539000.0</td>\n",
       "      <td>1613000.0</td>\n",
       "      <td>2.441500e+10</td>\n",
       "      <td>NaN</td>\n",
       "      <td>1.63</td>\n",
       "      <td>116.53</td>\n",
       "    </tr>\n",
       "  </tbody>\n",
       "</table>\n",
       "</div>"
      ],
      "text/plain": [
       "                                          name   price  change  perc_change  \\\n",
       "symbol                                                                        \n",
       "STNE                              StoneCo Ltd.   26.51   -8.23       -23.69   \n",
       "PAGS                    PagSeguro Digital Ltd.   25.30   -2.73        -9.74   \n",
       "PLXS                              Plexus Corp.   61.05   -4.86        -7.37   \n",
       "ADTN                              ADTRAN, Inc.   16.59    2.04        14.02   \n",
       "VIOT                 Viomi Technology Co., Ltd   15.25    2.03        15.36   \n",
       "DAVA                                Endava plc   30.00    2.10         7.53   \n",
       "ARCE                     Arco Platform Limited   30.43   -2.22        -6.80   \n",
       "CHKP    Check Point Software Technologies Ltd.  119.99   -9.54        -7.37   \n",
       "TEAM                 Atlassian Corporation Plc  101.94   -9.25        -8.32   \n",
       "\n",
       "            volume  volume_3_mth_avg    market_cap  pe_ratio  beta_3y_mthly  \\\n",
       "symbol                                                                        \n",
       "STNE    32482000.0         2961000.0  7.354000e+09    141.01            NaN   \n",
       "PAGS    13048000.0         2291000.0  8.280000e+09     36.35            NaN   \n",
       "PLXS      354697.0          164262.0  1.887000e+09     15.36           1.11   \n",
       "ADTN     2003000.0          365724.0  7.926200e+08       NaN           1.81   \n",
       "VIOT      563320.0          105412.0  1.056000e+09       NaN            NaN   \n",
       "DAVA     2021000.0           47641.0  1.487000e+09     71.60            NaN   \n",
       "ARCE       31007.0           64422.0  1.529000e+09    596.67            NaN   \n",
       "CHKP     5043000.0          948116.0  1.874400e+10     23.30           0.70   \n",
       "TEAM     7539000.0         1613000.0  2.441500e+10       NaN           1.63   \n",
       "\n",
       "        one_yr_target_est  \n",
       "symbol                     \n",
       "STNE                33.31  \n",
       "PAGS                31.31  \n",
       "PLXS                69.00  \n",
       "ADTN                15.25  \n",
       "VIOT                11.23  \n",
       "DAVA              2446.30  \n",
       "ARCE                30.87  \n",
       "CHKP               121.33  \n",
       "TEAM               116.53  "
      ]
     },
     "execution_count": 25,
     "metadata": {},
     "output_type": "execute_result"
    }
   ],
   "source": [
    "# Outliers - Stock having returns more than 3-sigma away from mean\n",
    "outliers = tech_stocks.perc_change\n",
    "outliers = tech_stocks[np.abs((outliers - np.mean(outliers)))/np.std(outliers)>3]\n",
    "print(outliers.shape[0])\n",
    "outliers"
   ]
  },
  {
   "cell_type": "markdown",
   "metadata": {},
   "source": [
    "9 stocks were more than 3 standard deviations away from mean for technology stocks."
   ]
  },
  {
   "cell_type": "code",
   "execution_count": 26,
   "metadata": {},
   "outputs": [
    {
     "data": {
      "text/plain": [
       "count    467.000000\n",
       "mean      -0.237345\n",
       "std        2.165550\n",
       "min      -23.690000\n",
       "25%       -0.790000\n",
       "50%       -0.090000\n",
       "75%        0.545000\n",
       "max       15.360000\n",
       "Name: perc_change, dtype: float64"
      ]
     },
     "execution_count": 26,
     "metadata": {},
     "output_type": "execute_result"
    }
   ],
   "source": [
    "# Performance statistics of all stocks\n",
    "tech_stocks.perc_change.describe()"
   ]
  },
  {
   "cell_type": "code",
   "execution_count": 27,
   "metadata": {},
   "outputs": [
    {
     "data": {
      "text/plain": [
       "242"
      ]
     },
     "execution_count": 27,
     "metadata": {},
     "output_type": "execute_result"
    }
   ],
   "source": [
    "# Number of stocks having -ve returns\n",
    "tech_stocks[tech_stocks.perc_change < 0].shape[0]"
   ]
  },
  {
   "cell_type": "markdown",
   "metadata": {},
   "source": [
    "242 out of 467 stocks had -ve price change."
   ]
  },
  {
   "cell_type": "markdown",
   "metadata": {},
   "source": [
    "----------"
   ]
  },
  {
   "cell_type": "code",
   "execution_count": 28,
   "metadata": {},
   "outputs": [
    {
     "data": {
      "text/plain": [
       "(-5, 5)"
      ]
     },
     "execution_count": 28,
     "metadata": {},
     "output_type": "execute_result"
    },
    {
     "data": {
      "image/png": "[encoded data removed]",
      "text/plain": [
       "<Figure size 432x288 with 1 Axes>"
      ]
     },
     "metadata": {
      "needs_background": "light"
     },
     "output_type": "display_data"
    }
   ],
   "source": [
    "plt.scatter(tech_stocks['market_cap'], tech_stocks['perc_change'])\n",
    "plt.xlabel('Market Capitalization')\n",
    "plt.ylabel('Percentage Change')\n",
    "plt.ylim(-5, +5)"
   ]
  },
  {
   "cell_type": "markdown",
   "metadata": {},
   "source": [
    "There is no clear link between market capitalization and percentage change. A few stocks have very high market capitalization compared to others; maybe taking log of market capitalization will make the relationship clear."
   ]
  },
  {
   "cell_type": "code",
   "execution_count": 29,
   "metadata": {},
   "outputs": [
    {
     "name": "stderr",
     "output_type": "stream",
     "text": [
      "C:\\Users\\sd_in\\Anaconda3\\lib\\site-packages\\ipykernel_launcher.py:2: SettingWithCopyWarning: \n",
      "A value is trying to be set on a copy of a slice from a DataFrame.\n",
      "Try using .loc[row_indexer,col_indexer] = value instead\n",
      "\n",
      "See the caveats in the documentation: http://pandas.pydata.org/pandas-docs/stable/indexing.html#indexing-view-versus-copy\n",
      "  \n"
     ]
    },
    {
     "data": {
      "text/plain": [
       "Text(0, 0.5, 'Percentage Change')"
      ]
     },
     "execution_count": 29,
     "metadata": {},
     "output_type": "execute_result"
    },
    {
     "data": {
      "image/png": "[encoded data removed]",
      "text/plain": [
       "<Figure size 432x288 with 1 Axes>"
      ]
     },
     "metadata": {
      "needs_background": "light"
     },
     "output_type": "display_data"
    }
   ],
   "source": [
    "tech_ = tech_stocks[['market_cap', 'perc_change']]\n",
    "tech_['log_m_cap'] = np.log(tech_['market_cap'])\n",
    "plt.scatter(tech_['log_m_cap'], tech_['perc_change'])\n",
    "plt.xlabel('Log of Market Capitalization')\n",
    "plt.ylabel('Percentage Change')\n",
    "#plt.ylim(-5, +5)"
   ]
  },
  {
   "cell_type": "code",
   "execution_count": 30,
   "metadata": {},
   "outputs": [
    {
     "name": "stderr",
     "output_type": "stream",
     "text": [
      "C:\\Users\\sd_in\\Anaconda3\\lib\\site-packages\\ipykernel_launcher.py:2: SettingWithCopyWarning: \n",
      "A value is trying to be set on a copy of a slice from a DataFrame.\n",
      "Try using .loc[row_indexer,col_indexer] = value instead\n",
      "\n",
      "See the caveats in the documentation: http://pandas.pydata.org/pandas-docs/stable/indexing.html#indexing-view-versus-copy\n",
      "  \n"
     ]
    },
    {
     "data": {
      "text/plain": [
       "Text(0.5, 1.0, 'Percentage Change with Market Cap')"
      ]
     },
     "execution_count": 30,
     "metadata": {},
     "output_type": "execute_result"
    },
    {
     "data": {
      "image/png": "[encoded data removed]",
      "text/plain": [
       "<Figure size 432x288 with 1 Axes>"
      ]
     },
     "metadata": {
      "needs_background": "light"
     },
     "output_type": "display_data"
    }
   ],
   "source": [
    "tech_ = tech_stocks[['market_cap', 'perc_change']]\n",
    "tech_['log_m_cap'] = np.log(tech_['market_cap'])\n",
    "plt.scatter(tech_['log_m_cap'], tech_['perc_change'])\n",
    "plt.xlabel('Log of Market Capitalization')\n",
    "plt.ylabel('Percentage Change')\n",
    "plt.ylim(-5, +5)\n",
    "plt.title('Percentage Change with Market Cap', fontsize = 15)"
   ]
  },
  {
   "cell_type": "markdown",
   "metadata": {},
   "source": [
    "There is no strong link between log of market capitalization and percentage change in price. Though variabilty of price change is slightly higher in low market capitalization stocks."
   ]
  },
  {
   "cell_type": "code",
   "execution_count": 31,
   "metadata": {},
   "outputs": [
    {
     "data": {
      "text/html": [
       "<div>\n",
       "<style scoped>\n",
       "    .dataframe tbody tr th:only-of-type {\n",
       "        vertical-align: middle;\n",
       "    }\n",
       "\n",
       "    .dataframe tbody tr th {\n",
       "        vertical-align: top;\n",
       "    }\n",
       "\n",
       "    .dataframe thead th {\n",
       "        text-align: right;\n",
       "    }\n",
       "</style>\n",
       "<table border=\"1\" class=\"dataframe\">\n",
       "  <thead>\n",
       "    <tr style=\"text-align: right;\">\n",
       "      <th></th>\n",
       "      <th>name</th>\n",
       "      <th>price</th>\n",
       "      <th>change</th>\n",
       "      <th>perc_change</th>\n",
       "      <th>volume</th>\n",
       "      <th>volume_3_mth_avg</th>\n",
       "      <th>market_cap</th>\n",
       "      <th>pe_ratio</th>\n",
       "      <th>beta_3y_mthly</th>\n",
       "      <th>one_yr_target_est</th>\n",
       "      <th>mcap_category</th>\n",
       "    </tr>\n",
       "    <tr>\n",
       "      <th>symbol</th>\n",
       "      <th></th>\n",
       "      <th></th>\n",
       "      <th></th>\n",
       "      <th></th>\n",
       "      <th></th>\n",
       "      <th></th>\n",
       "      <th></th>\n",
       "      <th></th>\n",
       "      <th></th>\n",
       "      <th></th>\n",
       "      <th></th>\n",
       "    </tr>\n",
       "  </thead>\n",
       "  <tbody>\n",
       "    <tr>\n",
       "      <th>AAPL</th>\n",
       "      <td>Apple Inc.</td>\n",
       "      <td>203.86</td>\n",
       "      <td>0.73</td>\n",
       "      <td>0.36</td>\n",
       "      <td>24196000.0</td>\n",
       "      <td>28307000.0</td>\n",
       "      <td>9.612570e+11</td>\n",
       "      <td>16.82</td>\n",
       "      <td>0.91</td>\n",
       "      <td>193.12</td>\n",
       "      <td>high</td>\n",
       "    </tr>\n",
       "    <tr>\n",
       "      <th>TXN</th>\n",
       "      <td>Texas Instruments Incorporated</td>\n",
       "      <td>115.51</td>\n",
       "      <td>-0.09</td>\n",
       "      <td>-0.08</td>\n",
       "      <td>4196000.0</td>\n",
       "      <td>5499000.0</td>\n",
       "      <td>1.084200e+11</td>\n",
       "      <td>20.65</td>\n",
       "      <td>1.12</td>\n",
       "      <td>109.32</td>\n",
       "      <td>high</td>\n",
       "    </tr>\n",
       "    <tr>\n",
       "      <th>NVDA</th>\n",
       "      <td>NVIDIA Corporation</td>\n",
       "      <td>186.30</td>\n",
       "      <td>-0.99</td>\n",
       "      <td>-0.53</td>\n",
       "      <td>9525000.0</td>\n",
       "      <td>15613000.0</td>\n",
       "      <td>1.133620e+11</td>\n",
       "      <td>28.10</td>\n",
       "      <td>2.37</td>\n",
       "      <td>183.19</td>\n",
       "      <td>high</td>\n",
       "    </tr>\n",
       "    <tr>\n",
       "      <th>ACN</th>\n",
       "      <td>Accenture plc</td>\n",
       "      <td>178.61</td>\n",
       "      <td>-0.34</td>\n",
       "      <td>-0.19</td>\n",
       "      <td>1279000.0</td>\n",
       "      <td>1976000.0</td>\n",
       "      <td>1.139230e+11</td>\n",
       "      <td>25.99</td>\n",
       "      <td>1.14</td>\n",
       "      <td>183.52</td>\n",
       "      <td>high</td>\n",
       "    </tr>\n",
       "    <tr>\n",
       "      <th>CRM</th>\n",
       "      <td>salesforce.com, inc.</td>\n",
       "      <td>155.99</td>\n",
       "      <td>0.65</td>\n",
       "      <td>0.42</td>\n",
       "      <td>4200000.0</td>\n",
       "      <td>5305000.0</td>\n",
       "      <td>1.208730e+11</td>\n",
       "      <td>109.08</td>\n",
       "      <td>1.05</td>\n",
       "      <td>181.63</td>\n",
       "      <td>high</td>\n",
       "    </tr>\n",
       "  </tbody>\n",
       "</table>\n",
       "</div>"
      ],
      "text/plain": [
       "                                  name   price  change  perc_change  \\\n",
       "symbol                                                                \n",
       "AAPL                        Apple Inc.  203.86    0.73         0.36   \n",
       "TXN     Texas Instruments Incorporated  115.51   -0.09        -0.08   \n",
       "NVDA                NVIDIA Corporation  186.30   -0.99        -0.53   \n",
       "ACN                      Accenture plc  178.61   -0.34        -0.19   \n",
       "CRM               salesforce.com, inc.  155.99    0.65         0.42   \n",
       "\n",
       "            volume  volume_3_mth_avg    market_cap  pe_ratio  beta_3y_mthly  \\\n",
       "symbol                                                                        \n",
       "AAPL    24196000.0        28307000.0  9.612570e+11     16.82           0.91   \n",
       "TXN      4196000.0         5499000.0  1.084200e+11     20.65           1.12   \n",
       "NVDA     9525000.0        15613000.0  1.133620e+11     28.10           2.37   \n",
       "ACN      1279000.0         1976000.0  1.139230e+11     25.99           1.14   \n",
       "CRM      4200000.0         5305000.0  1.208730e+11    109.08           1.05   \n",
       "\n",
       "        one_yr_target_est mcap_category  \n",
       "symbol                                   \n",
       "AAPL               193.12          high  \n",
       "TXN                109.32          high  \n",
       "NVDA               183.19          high  \n",
       "ACN                183.52          high  \n",
       "CRM                181.63          high  "
      ]
     },
     "execution_count": 31,
     "metadata": {},
     "output_type": "execute_result"
    }
   ],
   "source": [
    "tech_stocks['mcap_category'] = pd.qcut(tech_stocks['market_cap'], [0, .25, .75, 1.], labels=[\"low\", \"medium\", \"high\"])\n",
    "tech_stocks.head()"
   ]
  },
  {
   "cell_type": "code",
   "execution_count": 32,
   "metadata": {},
   "outputs": [
    {
     "data": {
      "text/plain": [
       "Text(0.5, 1.0, 'Percentage Change for different Market Cap')"
      ]
     },
     "execution_count": 32,
     "metadata": {},
     "output_type": "execute_result"
    },
    {
     "data": {
      "image/png": "[encoded data removed]",
      "text/plain": [
       "<Figure size 432x288 with 1 Axes>"
      ]
     },
     "metadata": {
      "needs_background": "light"
     },
     "output_type": "display_data"
    }
   ],
   "source": [
    "import seaborn as sns\n",
    "sns.boxplot(x = 'mcap_category', y = 'perc_change', data=tech_stocks)\n",
    "plt.xlabel('Market Capitalization Category')\n",
    "plt.ylabel('Percentage Change')\n",
    "plt.title('Percentage Change for different Market Cap', fontsize = 15)"
   ]
  },
  {
   "cell_type": "markdown",
   "metadata": {},
   "source": [
    "% loss was higher for some of the higher market capitalization stocks, as compared to low makt cap stocks, which is not a good sign."
   ]
  },
  {
   "cell_type": "markdown",
   "metadata": {},
   "source": [
    "### Projected Price Change in One Year\n",
    "Adding a column on expected price change in a year."
   ]
  },
  {
   "cell_type": "code",
   "execution_count": 33,
   "metadata": {},
   "outputs": [],
   "source": [
    "tech_stocks['est_perc_chg_yr'] = (tech_stocks['one_yr_target_est']/tech_stocks['price'] - 1)*100"
   ]
  },
  {
   "cell_type": "code",
   "execution_count": 34,
   "metadata": {},
   "outputs": [
    {
     "data": {
      "text/plain": [
       "<matplotlib.axes._subplots.AxesSubplot at 0x268183a0fd0>"
      ]
     },
     "execution_count": 34,
     "metadata": {},
     "output_type": "execute_result"
    },
    {
     "data": {
      "image/png": "[encoded data removed]",
      "text/plain": [
       "<Figure size 432x288 with 1 Axes>"
      ]
     },
     "metadata": {
      "needs_background": "light"
     },
     "output_type": "display_data"
    }
   ],
   "source": [
    "tech_1 = tech_stocks[['perc_change', 'est_perc_chg_yr']]\n",
    "tech_1.plot(x='est_perc_chg_yr', y='perc_change', kind='scatter', title= \"Day's Price Change vs Yearly Projection\")"
   ]
  },
  {
   "cell_type": "markdown",
   "metadata": {},
   "source": [
    "Checking outliers:"
   ]
  },
  {
   "cell_type": "code",
   "execution_count": 35,
   "metadata": {
    "scrolled": true
   },
   "outputs": [
    {
     "data": {
      "text/html": [
       "<div>\n",
       "<style scoped>\n",
       "    .dataframe tbody tr th:only-of-type {\n",
       "        vertical-align: middle;\n",
       "    }\n",
       "\n",
       "    .dataframe tbody tr th {\n",
       "        vertical-align: top;\n",
       "    }\n",
       "\n",
       "    .dataframe thead th {\n",
       "        text-align: right;\n",
       "    }\n",
       "</style>\n",
       "<table border=\"1\" class=\"dataframe\">\n",
       "  <thead>\n",
       "    <tr style=\"text-align: right;\">\n",
       "      <th></th>\n",
       "      <th>perc_change</th>\n",
       "      <th>est_perc_chg_yr</th>\n",
       "    </tr>\n",
       "    <tr>\n",
       "      <th>symbol</th>\n",
       "      <th></th>\n",
       "      <th></th>\n",
       "    </tr>\n",
       "  </thead>\n",
       "  <tbody>\n",
       "    <tr>\n",
       "      <th>STNE</th>\n",
       "      <td>-23.69</td>\n",
       "      <td>25.650698</td>\n",
       "    </tr>\n",
       "    <tr>\n",
       "      <th>PAGS</th>\n",
       "      <td>-9.74</td>\n",
       "      <td>23.754941</td>\n",
       "    </tr>\n",
       "    <tr>\n",
       "      <th>PLXS</th>\n",
       "      <td>-7.37</td>\n",
       "      <td>13.022113</td>\n",
       "    </tr>\n",
       "    <tr>\n",
       "      <th>ADTN</th>\n",
       "      <td>14.02</td>\n",
       "      <td>-8.077155</td>\n",
       "    </tr>\n",
       "    <tr>\n",
       "      <th>VIOT</th>\n",
       "      <td>15.36</td>\n",
       "      <td>-26.360656</td>\n",
       "    </tr>\n",
       "    <tr>\n",
       "      <th>DAVA</th>\n",
       "      <td>7.53</td>\n",
       "      <td>8054.333333</td>\n",
       "    </tr>\n",
       "    <tr>\n",
       "      <th>ARCE</th>\n",
       "      <td>-6.80</td>\n",
       "      <td>1.445942</td>\n",
       "    </tr>\n",
       "    <tr>\n",
       "      <th>CHKP</th>\n",
       "      <td>-7.37</td>\n",
       "      <td>1.116760</td>\n",
       "    </tr>\n",
       "    <tr>\n",
       "      <th>TEAM</th>\n",
       "      <td>-8.32</td>\n",
       "      <td>14.312341</td>\n",
       "    </tr>\n",
       "  </tbody>\n",
       "</table>\n",
       "</div>"
      ],
      "text/plain": [
       "        perc_change  est_perc_chg_yr\n",
       "symbol                              \n",
       "STNE         -23.69        25.650698\n",
       "PAGS          -9.74        23.754941\n",
       "PLXS          -7.37        13.022113\n",
       "ADTN          14.02        -8.077155\n",
       "VIOT          15.36       -26.360656\n",
       "DAVA           7.53      8054.333333\n",
       "ARCE          -6.80         1.445942\n",
       "CHKP          -7.37         1.116760\n",
       "TEAM          -8.32        14.312341"
      ]
     },
     "execution_count": 35,
     "metadata": {},
     "output_type": "execute_result"
    }
   ],
   "source": [
    "outliers_ = tech_stocks[['perc_change', 'est_perc_chg_yr']]\n",
    "outliers_ = outliers_.loc[outliers_.apply(lambda X: np.abs((X - np.mean(X)))/np.std(X)>3, axis = 0).any(axis = 1)]\n",
    "outliers_"
   ]
  },
  {
   "cell_type": "markdown",
   "metadata": {},
   "source": [
    "Endava plc (DAVA) Analyst Opinion (4/22/2019)    \n",
    "*Source: https://postanalyst.com*         \n",
    "Endava plc is currently rated as outperform by 5 stock analysts, with the company still having around 2.87% shares outstanding that can be sold short legally. The value of their shares went up by 12.57% last month. Over the course of a year, the stock has grown by 24.22%. Financial analysts are becoming more bullish than ever, with the 2 analysts who cover the activities of DAVA advising investors to buy. Experts on Wall Street have set a price target of $2426.27 for the stock. The decision was arrived after looking at their 7987.57% gain from current levels."
   ]
  },
  {
   "cell_type": "code",
   "execution_count": 36,
   "metadata": {},
   "outputs": [
    {
     "data": {
      "text/plain": [
       "Text(0.5, 0, 'Percent Change estimated in One Year')"
      ]
     },
     "execution_count": 36,
     "metadata": {},
     "output_type": "execute_result"
    },
    {
     "data": {
      "image/png": "[encoded data removed]",
      "text/plain": [
       "<Figure size 432x288 with 1 Axes>"
      ]
     },
     "metadata": {
      "needs_background": "light"
     },
     "output_type": "display_data"
    }
   ],
   "source": [
    "# Limiting x-axis values for better visibility\n",
    "tech_1.plot(x='est_perc_chg_yr', y='perc_change', kind='scatter', title= \"Day's Price Change vs Yearly Projection\", xlim = (-100, +200))\n",
    "plt.ylabel('Percent Change over Previous Day')\n",
    "plt.xlabel('Percent Change estimated in One Year')"
   ]
  },
  {
   "cell_type": "markdown",
   "metadata": {},
   "source": [
    "Contrary to expectations the Day's Price Change was not highly linked to Estimated Price in One Year.  \n",
    "  \n",
    "Following are some interesting observations:"
   ]
  },
  {
   "cell_type": "code",
   "execution_count": 37,
   "metadata": {},
   "outputs": [
    {
     "name": "stdout",
     "output_type": "stream",
     "text": [
      "Day's Mean Percent Change for stocks that are expected to gain more than 50% in one year: -0.26\n",
      "Day's Mean Percent Change for stocks that are expected to 0% to 50% gain in one year: -0.44\n",
      "Day's Mean Percent Change for stocks that are expected to lose in one year: 0.32\n"
     ]
    }
   ],
   "source": [
    "print(\"Day's Mean Percent Change for stocks that are expected to gain more than 50% in one year:\", round(tech_1[tech_1.est_perc_chg_yr > 50].perc_change.mean(), 2))\n",
    "print(\"Day's Mean Percent Change for stocks that are expected to 0% to 50% gain in one year:\", round(tech_1[(tech_1.est_perc_chg_yr >= 0) & (tech_1.est_perc_chg_yr <= 50)].perc_change.mean(), 2))\n",
    "print(\"Day's Mean Percent Change for stocks that are expected to lose in one year:\", round(tech_1[tech_1.est_perc_chg_yr < 0].perc_change.mean(), 2))"
   ]
  },
  {
   "cell_type": "markdown",
   "metadata": {},
   "source": [
    "### Price Change vs Beta (systematic risk)"
   ]
  },
  {
   "cell_type": "code",
   "execution_count": 38,
   "metadata": {
    "collapsed": true
   },
   "outputs": [
    {
     "data": {
      "text/html": [
       "<div>\n",
       "<style scoped>\n",
       "    .dataframe tbody tr th:only-of-type {\n",
       "        vertical-align: middle;\n",
       "    }\n",
       "\n",
       "    .dataframe tbody tr th {\n",
       "        vertical-align: top;\n",
       "    }\n",
       "\n",
       "    .dataframe thead th {\n",
       "        text-align: right;\n",
       "    }\n",
       "</style>\n",
       "<table border=\"1\" class=\"dataframe\">\n",
       "  <thead>\n",
       "    <tr style=\"text-align: right;\">\n",
       "      <th></th>\n",
       "      <th>perc_change</th>\n",
       "      <th>beta_3y_mthly</th>\n",
       "    </tr>\n",
       "    <tr>\n",
       "      <th>symbol</th>\n",
       "      <th></th>\n",
       "      <th></th>\n",
       "    </tr>\n",
       "  </thead>\n",
       "  <tbody>\n",
       "    <tr>\n",
       "      <th>AAPL</th>\n",
       "      <td>0.36</td>\n",
       "      <td>0.91</td>\n",
       "    </tr>\n",
       "    <tr>\n",
       "      <th>TXN</th>\n",
       "      <td>-0.08</td>\n",
       "      <td>1.12</td>\n",
       "    </tr>\n",
       "    <tr>\n",
       "      <th>NVDA</th>\n",
       "      <td>-0.53</td>\n",
       "      <td>2.37</td>\n",
       "    </tr>\n",
       "    <tr>\n",
       "      <th>ACN</th>\n",
       "      <td>-0.19</td>\n",
       "      <td>1.14</td>\n",
       "    </tr>\n",
       "    <tr>\n",
       "      <th>CRM</th>\n",
       "      <td>0.42</td>\n",
       "      <td>1.05</td>\n",
       "    </tr>\n",
       "    <tr>\n",
       "      <th>IBM</th>\n",
       "      <td>0.88</td>\n",
       "      <td>1.68</td>\n",
       "    </tr>\n",
       "    <tr>\n",
       "      <th>AVGO</th>\n",
       "      <td>-0.60</td>\n",
       "      <td>0.27</td>\n",
       "    </tr>\n",
       "    <tr>\n",
       "      <th>ADBE</th>\n",
       "      <td>0.42</td>\n",
       "      <td>1.03</td>\n",
       "    </tr>\n",
       "    <tr>\n",
       "      <th>SAP</th>\n",
       "      <td>0.59</td>\n",
       "      <td>0.86</td>\n",
       "    </tr>\n",
       "    <tr>\n",
       "      <th>ORCL</th>\n",
       "      <td>0.07</td>\n",
       "      <td>1.04</td>\n",
       "    </tr>\n",
       "    <tr>\n",
       "      <th>TSM</th>\n",
       "      <td>2.28</td>\n",
       "      <td>0.87</td>\n",
       "    </tr>\n",
       "    <tr>\n",
       "      <th>CSCO</th>\n",
       "      <td>0.16</td>\n",
       "      <td>1.06</td>\n",
       "    </tr>\n",
       "    <tr>\n",
       "      <th>PAYC</th>\n",
       "      <td>1.08</td>\n",
       "      <td>1.66</td>\n",
       "    </tr>\n",
       "    <tr>\n",
       "      <th>MINDP</th>\n",
       "      <td>-1.29</td>\n",
       "      <td>2.19</td>\n",
       "    </tr>\n",
       "    <tr>\n",
       "      <th>SOHU</th>\n",
       "      <td>0.79</td>\n",
       "      <td>1.14</td>\n",
       "    </tr>\n",
       "    <tr>\n",
       "      <th>PRO</th>\n",
       "      <td>0.14</td>\n",
       "      <td>0.77</td>\n",
       "    </tr>\n",
       "    <tr>\n",
       "      <th>JCOM</th>\n",
       "      <td>-0.55</td>\n",
       "      <td>0.92</td>\n",
       "    </tr>\n",
       "    <tr>\n",
       "      <th>SAIC</th>\n",
       "      <td>0.81</td>\n",
       "      <td>1.11</td>\n",
       "    </tr>\n",
       "    <tr>\n",
       "      <th>CYBR</th>\n",
       "      <td>-2.91</td>\n",
       "      <td>1.17</td>\n",
       "    </tr>\n",
       "    <tr>\n",
       "      <th>LITE</th>\n",
       "      <td>1.01</td>\n",
       "      <td>0.92</td>\n",
       "    </tr>\n",
       "    <tr>\n",
       "      <th>CACI</th>\n",
       "      <td>0.02</td>\n",
       "      <td>1.31</td>\n",
       "    </tr>\n",
       "    <tr>\n",
       "      <th>SINA</th>\n",
       "      <td>0.57</td>\n",
       "      <td>1.30</td>\n",
       "    </tr>\n",
       "    <tr>\n",
       "      <th>PCTY</th>\n",
       "      <td>-2.13</td>\n",
       "      <td>1.52</td>\n",
       "    </tr>\n",
       "    <tr>\n",
       "      <th>NUAN</th>\n",
       "      <td>-0.30</td>\n",
       "      <td>1.63</td>\n",
       "    </tr>\n",
       "    <tr>\n",
       "      <th>MDSO</th>\n",
       "      <td>3.49</td>\n",
       "      <td>1.20</td>\n",
       "    </tr>\n",
       "    <tr>\n",
       "      <th>JBL</th>\n",
       "      <td>0.84</td>\n",
       "      <td>0.48</td>\n",
       "    </tr>\n",
       "    <tr>\n",
       "      <th>INXN</th>\n",
       "      <td>-0.72</td>\n",
       "      <td>1.21</td>\n",
       "    </tr>\n",
       "    <tr>\n",
       "      <th>LFUS</th>\n",
       "      <td>0.18</td>\n",
       "      <td>1.00</td>\n",
       "    </tr>\n",
       "    <tr>\n",
       "      <th>COMM</th>\n",
       "      <td>-1.55</td>\n",
       "      <td>1.50</td>\n",
       "    </tr>\n",
       "    <tr>\n",
       "      <th>BB</th>\n",
       "      <td>0.00</td>\n",
       "      <td>2.09</td>\n",
       "    </tr>\n",
       "    <tr>\n",
       "      <th>...</th>\n",
       "      <td>...</td>\n",
       "      <td>...</td>\n",
       "    </tr>\n",
       "    <tr>\n",
       "      <th>HPQ</th>\n",
       "      <td>0.10</td>\n",
       "      <td>1.20</td>\n",
       "    </tr>\n",
       "    <tr>\n",
       "      <th>RHT</th>\n",
       "      <td>-0.34</td>\n",
       "      <td>-0.29</td>\n",
       "    </tr>\n",
       "    <tr>\n",
       "      <th>NOK</th>\n",
       "      <td>-0.17</td>\n",
       "      <td>-0.06</td>\n",
       "    </tr>\n",
       "    <tr>\n",
       "      <th>ERIC</th>\n",
       "      <td>-2.69</td>\n",
       "      <td>0.28</td>\n",
       "    </tr>\n",
       "    <tr>\n",
       "      <th>XLNX</th>\n",
       "      <td>-0.64</td>\n",
       "      <td>1.41</td>\n",
       "    </tr>\n",
       "    <tr>\n",
       "      <th>ATVI</th>\n",
       "      <td>0.73</td>\n",
       "      <td>0.79</td>\n",
       "    </tr>\n",
       "    <tr>\n",
       "      <th>NTES</th>\n",
       "      <td>-0.85</td>\n",
       "      <td>0.32</td>\n",
       "    </tr>\n",
       "    <tr>\n",
       "      <th>ADSK</th>\n",
       "      <td>0.70</td>\n",
       "      <td>1.43</td>\n",
       "    </tr>\n",
       "    <tr>\n",
       "      <th>CTSH</th>\n",
       "      <td>-1.12</td>\n",
       "      <td>1.05</td>\n",
       "    </tr>\n",
       "    <tr>\n",
       "      <th>WDAY</th>\n",
       "      <td>-1.67</td>\n",
       "      <td>1.15</td>\n",
       "    </tr>\n",
       "    <tr>\n",
       "      <th>AMAT</th>\n",
       "      <td>0.14</td>\n",
       "      <td>1.50</td>\n",
       "    </tr>\n",
       "    <tr>\n",
       "      <th>ADI</th>\n",
       "      <td>0.34</td>\n",
       "      <td>1.31</td>\n",
       "    </tr>\n",
       "    <tr>\n",
       "      <th>NOW</th>\n",
       "      <td>0.50</td>\n",
       "      <td>0.97</td>\n",
       "    </tr>\n",
       "    <tr>\n",
       "      <th>INFY</th>\n",
       "      <td>-0.19</td>\n",
       "      <td>0.85</td>\n",
       "    </tr>\n",
       "    <tr>\n",
       "      <th>MU</th>\n",
       "      <td>0.58</td>\n",
       "      <td>1.48</td>\n",
       "    </tr>\n",
       "    <tr>\n",
       "      <th>BIDU</th>\n",
       "      <td>0.41</td>\n",
       "      <td>1.13</td>\n",
       "    </tr>\n",
       "    <tr>\n",
       "      <th>SNE</th>\n",
       "      <td>0.25</td>\n",
       "      <td>0.95</td>\n",
       "    </tr>\n",
       "    <tr>\n",
       "      <th>INTU</th>\n",
       "      <td>0.59</td>\n",
       "      <td>1.04</td>\n",
       "    </tr>\n",
       "    <tr>\n",
       "      <th>VMW</th>\n",
       "      <td>-0.52</td>\n",
       "      <td>0.87</td>\n",
       "    </tr>\n",
       "    <tr>\n",
       "      <th>ASML</th>\n",
       "      <td>1.25</td>\n",
       "      <td>1.32</td>\n",
       "    </tr>\n",
       "    <tr>\n",
       "      <th>QCOM</th>\n",
       "      <td>1.02</td>\n",
       "      <td>0.92</td>\n",
       "    </tr>\n",
       "    <tr>\n",
       "      <th>INTC</th>\n",
       "      <td>-0.12</td>\n",
       "      <td>0.49</td>\n",
       "    </tr>\n",
       "    <tr>\n",
       "      <th>FB</th>\n",
       "      <td>-0.28</td>\n",
       "      <td>1.20</td>\n",
       "    </tr>\n",
       "    <tr>\n",
       "      <th>GOOG</th>\n",
       "      <td>0.00</td>\n",
       "      <td>1.16</td>\n",
       "    </tr>\n",
       "    <tr>\n",
       "      <th>GOOGL</th>\n",
       "      <td>0.11</td>\n",
       "      <td>1.19</td>\n",
       "    </tr>\n",
       "    <tr>\n",
       "      <th>MSFT</th>\n",
       "      <td>1.31</td>\n",
       "      <td>1.01</td>\n",
       "    </tr>\n",
       "    <tr>\n",
       "      <th>STM</th>\n",
       "      <td>-0.32</td>\n",
       "      <td>1.55</td>\n",
       "    </tr>\n",
       "    <tr>\n",
       "      <th>TECD</th>\n",
       "      <td>-0.19</td>\n",
       "      <td>1.16</td>\n",
       "    </tr>\n",
       "    <tr>\n",
       "      <th>GWRE</th>\n",
       "      <td>0.15</td>\n",
       "      <td>1.10</td>\n",
       "    </tr>\n",
       "    <tr>\n",
       "      <th>FLEX</th>\n",
       "      <td>0.00</td>\n",
       "      <td>2.26</td>\n",
       "    </tr>\n",
       "  </tbody>\n",
       "</table>\n",
       "<p>412 rows × 2 columns</p>\n",
       "</div>"
      ],
      "text/plain": [
       "        perc_change  beta_3y_mthly\n",
       "symbol                            \n",
       "AAPL           0.36           0.91\n",
       "TXN           -0.08           1.12\n",
       "NVDA          -0.53           2.37\n",
       "ACN           -0.19           1.14\n",
       "CRM            0.42           1.05\n",
       "IBM            0.88           1.68\n",
       "AVGO          -0.60           0.27\n",
       "ADBE           0.42           1.03\n",
       "SAP            0.59           0.86\n",
       "ORCL           0.07           1.04\n",
       "TSM            2.28           0.87\n",
       "CSCO           0.16           1.06\n",
       "PAYC           1.08           1.66\n",
       "MINDP         -1.29           2.19\n",
       "SOHU           0.79           1.14\n",
       "PRO            0.14           0.77\n",
       "JCOM          -0.55           0.92\n",
       "SAIC           0.81           1.11\n",
       "CYBR          -2.91           1.17\n",
       "LITE           1.01           0.92\n",
       "CACI           0.02           1.31\n",
       "SINA           0.57           1.30\n",
       "PCTY          -2.13           1.52\n",
       "NUAN          -0.30           1.63\n",
       "MDSO           3.49           1.20\n",
       "JBL            0.84           0.48\n",
       "INXN          -0.72           1.21\n",
       "LFUS           0.18           1.00\n",
       "COMM          -1.55           1.50\n",
       "BB             0.00           2.09\n",
       "...             ...            ...\n",
       "HPQ            0.10           1.20\n",
       "RHT           -0.34          -0.29\n",
       "NOK           -0.17          -0.06\n",
       "ERIC          -2.69           0.28\n",
       "XLNX          -0.64           1.41\n",
       "ATVI           0.73           0.79\n",
       "NTES          -0.85           0.32\n",
       "ADSK           0.70           1.43\n",
       "CTSH          -1.12           1.05\n",
       "WDAY          -1.67           1.15\n",
       "AMAT           0.14           1.50\n",
       "ADI            0.34           1.31\n",
       "NOW            0.50           0.97\n",
       "INFY          -0.19           0.85\n",
       "MU             0.58           1.48\n",
       "BIDU           0.41           1.13\n",
       "SNE            0.25           0.95\n",
       "INTU           0.59           1.04\n",
       "VMW           -0.52           0.87\n",
       "ASML           1.25           1.32\n",
       "QCOM           1.02           0.92\n",
       "INTC          -0.12           0.49\n",
       "FB            -0.28           1.20\n",
       "GOOG           0.00           1.16\n",
       "GOOGL          0.11           1.19\n",
       "MSFT           1.31           1.01\n",
       "STM           -0.32           1.55\n",
       "TECD          -0.19           1.16\n",
       "GWRE           0.15           1.10\n",
       "FLEX           0.00           2.26\n",
       "\n",
       "[412 rows x 2 columns]"
      ]
     },
     "execution_count": 38,
     "metadata": {},
     "output_type": "execute_result"
    }
   ],
   "source": [
    "tech_beta = tech_stocks[['perc_change', 'beta_3y_mthly']]\n",
    "tech_beta.dropna(axis= 0, how = 'any')"
   ]
  },
  {
   "cell_type": "code",
   "execution_count": 39,
   "metadata": {},
   "outputs": [
    {
     "data": {
      "text/plain": [
       "Text(0.5, 1.0, 'Price Change vs Beta')"
      ]
     },
     "execution_count": 39,
     "metadata": {},
     "output_type": "execute_result"
    },
    {
     "data": {
      "image/png": "[encoded data removed]",
      "text/plain": [
       "<Figure size 432x288 with 1 Axes>"
      ]
     },
     "metadata": {
      "needs_background": "light"
     },
     "output_type": "display_data"
    }
   ],
   "source": [
    "tech_beta.plot(x = 'beta_3y_mthly', y = 'perc_change', kind = 'scatter', ylim = (-5, +5), xlim = (0, 3))\n",
    "plt.title('Price Change vs Beta', fontsize = 15)"
   ]
  },
  {
   "cell_type": "markdown",
   "metadata": {},
   "source": [
    "From the graph the day's price change was not related to beta. This also shows that the loss might be more sustained."
   ]
  },
  {
   "cell_type": "markdown",
   "metadata": {},
   "source": [
    "### Stock Prices for Different PE Ratios"
   ]
  },
  {
   "cell_type": "code",
   "execution_count": 51,
   "metadata": {},
   "outputs": [],
   "source": [
    "tech_pe = tech_stocks[['price', 'pe_ratio', 'perc_change']].dropna(axis = 0, how = 'any')"
   ]
  },
  {
   "cell_type": "code",
   "execution_count": 52,
   "metadata": {},
   "outputs": [
    {
     "data": {
      "text/plain": [
       "(0, 400)"
      ]
     },
     "execution_count": 52,
     "metadata": {},
     "output_type": "execute_result"
    },
    {
     "data": {
      "image/png": "[encoded data removed]",
      "text/plain": [
       "<Figure size 432x288 with 1 Axes>"
      ]
     },
     "metadata": {
      "needs_background": "light"
     },
     "output_type": "display_data"
    }
   ],
   "source": [
    "tech_pe.boxplot(column = 'pe_ratio')\n",
    "plt.title('Boxplot Distribution PE Ratio', fontsize = 15)\n",
    "plt.ylim(0, 400)"
   ]
  },
  {
   "cell_type": "code",
   "execution_count": 53,
   "metadata": {},
   "outputs": [
    {
     "name": "stdout",
     "output_type": "stream",
     "text": [
      "Mean PE Ratio: 63.04630434782611\n",
      "Median PE Ratio: 28.055\n"
     ]
    }
   ],
   "source": [
    "print('Mean PE Ratio:', np.mean(tech_pe.pe_ratio))\n",
    "print('Median PE Ratio:', np.median(tech_pe.pe_ratio))"
   ]
  },
  {
   "cell_type": "code",
   "execution_count": 54,
   "metadata": {},
   "outputs": [],
   "source": [
    "tech_pe['pe_ratio_quartile'] = pd.qcut(tech_pe['pe_ratio'], [0, .25, .50, .75, 1.], labels=[\"Q1\", \"Q2\", \"Q3\", \"Q4\"])"
   ]
  },
  {
   "cell_type": "code",
   "execution_count": 64,
   "metadata": {},
   "outputs": [
    {
     "data": {
      "text/html": [
       "<div>\n",
       "<style scoped>\n",
       "    .dataframe tbody tr th:only-of-type {\n",
       "        vertical-align: middle;\n",
       "    }\n",
       "\n",
       "    .dataframe tbody tr th {\n",
       "        vertical-align: top;\n",
       "    }\n",
       "\n",
       "    .dataframe thead th {\n",
       "        text-align: right;\n",
       "    }\n",
       "</style>\n",
       "<table border=\"1\" class=\"dataframe\">\n",
       "  <thead>\n",
       "    <tr style=\"text-align: right;\">\n",
       "      <th></th>\n",
       "      <th>min</th>\n",
       "      <th>max</th>\n",
       "      <th>mean</th>\n",
       "    </tr>\n",
       "    <tr>\n",
       "      <th>pe_ratio_quartile</th>\n",
       "      <th></th>\n",
       "      <th></th>\n",
       "      <th></th>\n",
       "    </tr>\n",
       "  </thead>\n",
       "  <tbody>\n",
       "    <tr>\n",
       "      <th>Q1</th>\n",
       "      <td>3.96</td>\n",
       "      <td>17.49</td>\n",
       "      <td>12.387407</td>\n",
       "    </tr>\n",
       "    <tr>\n",
       "      <th>Q2</th>\n",
       "      <td>17.51</td>\n",
       "      <td>28.02</td>\n",
       "      <td>22.736250</td>\n",
       "    </tr>\n",
       "    <tr>\n",
       "      <th>Q3</th>\n",
       "      <td>28.09</td>\n",
       "      <td>58.97</td>\n",
       "      <td>40.519375</td>\n",
       "    </tr>\n",
       "    <tr>\n",
       "      <th>Q4</th>\n",
       "      <td>59.11</td>\n",
       "      <td>953.75</td>\n",
       "      <td>175.766420</td>\n",
       "    </tr>\n",
       "  </tbody>\n",
       "</table>\n",
       "</div>"
      ],
      "text/plain": [
       "                     min     max        mean\n",
       "pe_ratio_quartile                           \n",
       "Q1                  3.96   17.49   12.387407\n",
       "Q2                 17.51   28.02   22.736250\n",
       "Q3                 28.09   58.97   40.519375\n",
       "Q4                 59.11  953.75  175.766420"
      ]
     },
     "execution_count": 64,
     "metadata": {},
     "output_type": "execute_result"
    }
   ],
   "source": [
    "tech_pe.groupby('pe_ratio_quartile').pe_ratio.agg(['min', 'max', 'mean'])"
   ]
  },
  {
   "cell_type": "code",
   "execution_count": 56,
   "metadata": {},
   "outputs": [
    {
     "data": {
      "text/plain": [
       "Text(0, 0.5, 'Price')"
      ]
     },
     "execution_count": 56,
     "metadata": {},
     "output_type": "execute_result"
    },
    {
     "data": {
      "image/png": "[encoded data removed]",
      "text/plain": [
       "<Figure size 432x288 with 1 Axes>"
      ]
     },
     "metadata": {
      "needs_background": "light"
     },
     "output_type": "display_data"
    }
   ],
   "source": [
    "tech_pe.boxplot(column = 'price', by = 'pe_ratio_quartile')\n",
    "plt.title('Price Variation for Different PE Quartiles', fontsize = 15)\n",
    "plt.suptitle(\"\")\n",
    "plt.ylabel('Price')"
   ]
  },
  {
   "cell_type": "code",
   "execution_count": 57,
   "metadata": {},
   "outputs": [
    {
     "data": {
      "text/plain": [
       "Text(0, 0.5, 'Price')"
      ]
     },
     "execution_count": 57,
     "metadata": {},
     "output_type": "execute_result"
    },
    {
     "data": {
      "image/png": "[encoded data removed]",
      "text/plain": [
       "<Figure size 432x288 with 1 Axes>"
      ]
     },
     "metadata": {
      "needs_background": "light"
     },
     "output_type": "display_data"
    }
   ],
   "source": [
    "tech_pe.boxplot(column = 'price', by = 'pe_ratio_quartile')\n",
    "plt.title('Price Variation for Different PE Quartiles', fontsize = 15)\n",
    "plt.suptitle(\"\")\n",
    "plt.ylim(0, 400)\n",
    "plt.ylabel('Price')"
   ]
  },
  {
   "cell_type": "markdown",
   "metadata": {},
   "source": [
    "Stocks in the bottom quartile by pe_ratio are priced lower, but in other quartiles there is not much difference."
   ]
  },
  {
   "cell_type": "code",
   "execution_count": 60,
   "metadata": {},
   "outputs": [
    {
     "data": {
      "text/plain": [
       "Text(0, 0.5, 'Percentage Price Change')"
      ]
     },
     "execution_count": 60,
     "metadata": {},
     "output_type": "execute_result"
    },
    {
     "data": {
      "image/png": "[encoded data removed]",
      "text/plain": [
       "<Figure size 432x288 with 1 Axes>"
      ]
     },
     "metadata": {
      "needs_background": "light"
     },
     "output_type": "display_data"
    }
   ],
   "source": [
    "tech_pe.boxplot(column = 'perc_change', by = 'pe_ratio_quartile')\n",
    "plt.title('Price Change for Different PE Quartiles', fontsize = 15)\n",
    "plt.suptitle(\"\")\n",
    "plt.ylim(-5, +5)\n",
    "plt.ylabel('Percentage Price Change')"
   ]
  },
  {
   "cell_type": "markdown",
   "metadata": {},
   "source": [
    "Percentage price change was not linked to the PE ratio."
   ]
  }
 ],
 "metadata": {
  "kernelspec": {
   "display_name": "Python 3",
   "language": "python",
   "name": "python3"
  },
  "language_info": {
   "codemirror_mode": {
    "name": "ipython",
    "version": 3
   },
   "file_extension": ".py",
   "mimetype": "text/x-python",
   "name": "python",
   "nbconvert_exporter": "python",
   "pygments_lexer": "ipython3",
   "version": "3.7.1"
  }
 },
 "nbformat": 4,
 "nbformat_minor": 2
}
