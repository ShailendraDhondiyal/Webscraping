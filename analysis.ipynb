{
 "cells": [
  {
   "cell_type": "markdown",
   "metadata": {},
   "source": [
    "# Analysis of Technology Stocks' Performance on 18th April 2019\n",
    "Source: Yahoo! Finance\n"
   ]
  },
  {
   "cell_type": "code",
   "execution_count": 1,
   "metadata": {},
   "outputs": [],
   "source": [
    "import pandas as pd\n",
    "import numpy as np"
   ]
  },
  {
   "cell_type": "code",
   "execution_count": 2,
   "metadata": {},
   "outputs": [],
   "source": [
    "tech_stocks = pd.read_csv('yahoofin.csv', index_col = 'symbol')"
   ]
  },
  {
   "cell_type": "markdown",
   "metadata": {},
   "source": [
    "A peek at the data:"
   ]
  },
  {
   "cell_type": "code",
   "execution_count": 3,
   "metadata": {
    "scrolled": true
   },
   "outputs": [
    {
     "data": {
      "text/html": [
       "<div>\n",
       "<style scoped>\n",
       "    .dataframe tbody tr th:only-of-type {\n",
       "        vertical-align: middle;\n",
       "    }\n",
       "\n",
       "    .dataframe tbody tr th {\n",
       "        vertical-align: top;\n",
       "    }\n",
       "\n",
       "    .dataframe thead th {\n",
       "        text-align: right;\n",
       "    }\n",
       "</style>\n",
       "<table border=\"1\" class=\"dataframe\">\n",
       "  <thead>\n",
       "    <tr style=\"text-align: right;\">\n",
       "      <th></th>\n",
       "      <th>beta_3y_mthly</th>\n",
       "      <th>change</th>\n",
       "      <th>market_cap</th>\n",
       "      <th>name</th>\n",
       "      <th>one_yr_target_est</th>\n",
       "      <th>pe_ratio</th>\n",
       "      <th>perc_change</th>\n",
       "      <th>price</th>\n",
       "      <th>volume</th>\n",
       "      <th>volume_3_mth_avg</th>\n",
       "    </tr>\n",
       "    <tr>\n",
       "      <th>symbol</th>\n",
       "      <th></th>\n",
       "      <th></th>\n",
       "      <th></th>\n",
       "      <th></th>\n",
       "      <th></th>\n",
       "      <th></th>\n",
       "      <th></th>\n",
       "      <th></th>\n",
       "      <th></th>\n",
       "      <th></th>\n",
       "    </tr>\n",
       "  </thead>\n",
       "  <tbody>\n",
       "    <tr>\n",
       "      <th>AAPL</th>\n",
       "      <td>0.91</td>\n",
       "      <td>0.73</td>\n",
       "      <td>961.257B</td>\n",
       "      <td>Apple Inc.</td>\n",
       "      <td>193.12</td>\n",
       "      <td>16.82</td>\n",
       "      <td>+0.36%</td>\n",
       "      <td>203.86</td>\n",
       "      <td>24.196M</td>\n",
       "      <td>28.307M</td>\n",
       "    </tr>\n",
       "    <tr>\n",
       "      <th>TXN</th>\n",
       "      <td>1.12</td>\n",
       "      <td>-0.09</td>\n",
       "      <td>108.42B</td>\n",
       "      <td>Texas Instruments Incorporated</td>\n",
       "      <td>109.32</td>\n",
       "      <td>20.65</td>\n",
       "      <td>-0.08%</td>\n",
       "      <td>115.51</td>\n",
       "      <td>4.196M</td>\n",
       "      <td>5.499M</td>\n",
       "    </tr>\n",
       "    <tr>\n",
       "      <th>NVDA</th>\n",
       "      <td>2.37</td>\n",
       "      <td>-0.99</td>\n",
       "      <td>113.362B</td>\n",
       "      <td>NVIDIA Corporation</td>\n",
       "      <td>183.19</td>\n",
       "      <td>28.10</td>\n",
       "      <td>-0.53%</td>\n",
       "      <td>186.30</td>\n",
       "      <td>9.525M</td>\n",
       "      <td>15.613M</td>\n",
       "    </tr>\n",
       "    <tr>\n",
       "      <th>ACN</th>\n",
       "      <td>1.14</td>\n",
       "      <td>-0.34</td>\n",
       "      <td>113.923B</td>\n",
       "      <td>Accenture plc</td>\n",
       "      <td>183.52</td>\n",
       "      <td>25.99</td>\n",
       "      <td>-0.19%</td>\n",
       "      <td>178.61</td>\n",
       "      <td>1.279M</td>\n",
       "      <td>1.976M</td>\n",
       "    </tr>\n",
       "    <tr>\n",
       "      <th>CRM</th>\n",
       "      <td>1.05</td>\n",
       "      <td>0.65</td>\n",
       "      <td>120.873B</td>\n",
       "      <td>salesforce.com, inc.</td>\n",
       "      <td>181.63</td>\n",
       "      <td>109.08</td>\n",
       "      <td>+0.42%</td>\n",
       "      <td>155.99</td>\n",
       "      <td>4.2M</td>\n",
       "      <td>5.305M</td>\n",
       "    </tr>\n",
       "  </tbody>\n",
       "</table>\n",
       "</div>"
      ],
      "text/plain": [
       "        beta_3y_mthly  change market_cap                            name  \\\n",
       "symbol                                                                     \n",
       "AAPL             0.91    0.73   961.257B                      Apple Inc.   \n",
       "TXN              1.12   -0.09    108.42B  Texas Instruments Incorporated   \n",
       "NVDA             2.37   -0.99   113.362B              NVIDIA Corporation   \n",
       "ACN              1.14   -0.34   113.923B                   Accenture plc   \n",
       "CRM              1.05    0.65   120.873B            salesforce.com, inc.   \n",
       "\n",
       "       one_yr_target_est  pe_ratio perc_change   price   volume  \\\n",
       "symbol                                                            \n",
       "AAPL              193.12     16.82      +0.36%  203.86  24.196M   \n",
       "TXN               109.32     20.65      -0.08%  115.51   4.196M   \n",
       "NVDA              183.19     28.10      -0.53%  186.30   9.525M   \n",
       "ACN               183.52     25.99      -0.19%  178.61   1.279M   \n",
       "CRM               181.63    109.08      +0.42%  155.99     4.2M   \n",
       "\n",
       "       volume_3_mth_avg  \n",
       "symbol                   \n",
       "AAPL            28.307M  \n",
       "TXN              5.499M  \n",
       "NVDA            15.613M  \n",
       "ACN              1.976M  \n",
       "CRM              5.305M  "
      ]
     },
     "execution_count": 3,
     "metadata": {},
     "output_type": "execute_result"
    }
   ],
   "source": [
    "tech_stocks.head()"
   ]
  },
  {
   "cell_type": "markdown",
   "metadata": {},
   "source": [
    "Reordering columns:"
   ]
  },
  {
   "cell_type": "code",
   "execution_count": 4,
   "metadata": {},
   "outputs": [],
   "source": [
    "tech_stocks = tech_stocks[['name', 'price', 'change', 'perc_change', 'volume', 'volume_3_mth_avg', 'market_cap', 'pe_ratio', 'beta_3y_mthly', 'one_yr_target_est']]"
   ]
  },
  {
   "cell_type": "code",
   "execution_count": 5,
   "metadata": {},
   "outputs": [
    {
     "data": {
      "text/html": [
       "<div>\n",
       "<style scoped>\n",
       "    .dataframe tbody tr th:only-of-type {\n",
       "        vertical-align: middle;\n",
       "    }\n",
       "\n",
       "    .dataframe tbody tr th {\n",
       "        vertical-align: top;\n",
       "    }\n",
       "\n",
       "    .dataframe thead th {\n",
       "        text-align: right;\n",
       "    }\n",
       "</style>\n",
       "<table border=\"1\" class=\"dataframe\">\n",
       "  <thead>\n",
       "    <tr style=\"text-align: right;\">\n",
       "      <th></th>\n",
       "      <th>name</th>\n",
       "      <th>price</th>\n",
       "      <th>change</th>\n",
       "      <th>perc_change</th>\n",
       "      <th>volume</th>\n",
       "      <th>volume_3_mth_avg</th>\n",
       "      <th>market_cap</th>\n",
       "      <th>pe_ratio</th>\n",
       "      <th>beta_3y_mthly</th>\n",
       "      <th>one_yr_target_est</th>\n",
       "    </tr>\n",
       "    <tr>\n",
       "      <th>symbol</th>\n",
       "      <th></th>\n",
       "      <th></th>\n",
       "      <th></th>\n",
       "      <th></th>\n",
       "      <th></th>\n",
       "      <th></th>\n",
       "      <th></th>\n",
       "      <th></th>\n",
       "      <th></th>\n",
       "      <th></th>\n",
       "    </tr>\n",
       "  </thead>\n",
       "  <tbody>\n",
       "    <tr>\n",
       "      <th>AAPL</th>\n",
       "      <td>Apple Inc.</td>\n",
       "      <td>203.86</td>\n",
       "      <td>0.73</td>\n",
       "      <td>+0.36%</td>\n",
       "      <td>24.196M</td>\n",
       "      <td>28.307M</td>\n",
       "      <td>961.257B</td>\n",
       "      <td>16.82</td>\n",
       "      <td>0.91</td>\n",
       "      <td>193.12</td>\n",
       "    </tr>\n",
       "    <tr>\n",
       "      <th>TXN</th>\n",
       "      <td>Texas Instruments Incorporated</td>\n",
       "      <td>115.51</td>\n",
       "      <td>-0.09</td>\n",
       "      <td>-0.08%</td>\n",
       "      <td>4.196M</td>\n",
       "      <td>5.499M</td>\n",
       "      <td>108.42B</td>\n",
       "      <td>20.65</td>\n",
       "      <td>1.12</td>\n",
       "      <td>109.32</td>\n",
       "    </tr>\n",
       "    <tr>\n",
       "      <th>NVDA</th>\n",
       "      <td>NVIDIA Corporation</td>\n",
       "      <td>186.30</td>\n",
       "      <td>-0.99</td>\n",
       "      <td>-0.53%</td>\n",
       "      <td>9.525M</td>\n",
       "      <td>15.613M</td>\n",
       "      <td>113.362B</td>\n",
       "      <td>28.10</td>\n",
       "      <td>2.37</td>\n",
       "      <td>183.19</td>\n",
       "    </tr>\n",
       "    <tr>\n",
       "      <th>ACN</th>\n",
       "      <td>Accenture plc</td>\n",
       "      <td>178.61</td>\n",
       "      <td>-0.34</td>\n",
       "      <td>-0.19%</td>\n",
       "      <td>1.279M</td>\n",
       "      <td>1.976M</td>\n",
       "      <td>113.923B</td>\n",
       "      <td>25.99</td>\n",
       "      <td>1.14</td>\n",
       "      <td>183.52</td>\n",
       "    </tr>\n",
       "    <tr>\n",
       "      <th>CRM</th>\n",
       "      <td>salesforce.com, inc.</td>\n",
       "      <td>155.99</td>\n",
       "      <td>0.65</td>\n",
       "      <td>+0.42%</td>\n",
       "      <td>4.2M</td>\n",
       "      <td>5.305M</td>\n",
       "      <td>120.873B</td>\n",
       "      <td>109.08</td>\n",
       "      <td>1.05</td>\n",
       "      <td>181.63</td>\n",
       "    </tr>\n",
       "    <tr>\n",
       "      <th>IBM</th>\n",
       "      <td>International Business Machines Corporation</td>\n",
       "      <td>140.33</td>\n",
       "      <td>1.22</td>\n",
       "      <td>+0.88%</td>\n",
       "      <td>4.705M</td>\n",
       "      <td>4.254M</td>\n",
       "      <td>124.875B</td>\n",
       "      <td>14.77</td>\n",
       "      <td>1.68</td>\n",
       "      <td>143.72</td>\n",
       "    </tr>\n",
       "    <tr>\n",
       "      <th>AVGO</th>\n",
       "      <td>Broadcom Inc.</td>\n",
       "      <td>318.62</td>\n",
       "      <td>-1.91</td>\n",
       "      <td>-0.60%</td>\n",
       "      <td>2.655M</td>\n",
       "      <td>2.694M</td>\n",
       "      <td>126.124B</td>\n",
       "      <td>21.04</td>\n",
       "      <td>0.27</td>\n",
       "      <td>312.45</td>\n",
       "    </tr>\n",
       "    <tr>\n",
       "      <th>ADBE</th>\n",
       "      <td>Adobe Inc.</td>\n",
       "      <td>270.57</td>\n",
       "      <td>1.12</td>\n",
       "      <td>+0.42%</td>\n",
       "      <td>2.029M</td>\n",
       "      <td>2.871M</td>\n",
       "      <td>132.025B</td>\n",
       "      <td>50.20</td>\n",
       "      <td>1.03</td>\n",
       "      <td>292.67</td>\n",
       "    </tr>\n",
       "    <tr>\n",
       "      <th>SAP</th>\n",
       "      <td>SAP SE</td>\n",
       "      <td>112.97</td>\n",
       "      <td>0.66</td>\n",
       "      <td>+0.59%</td>\n",
       "      <td>481,087</td>\n",
       "      <td>722,966</td>\n",
       "      <td>135.003B</td>\n",
       "      <td>27.29</td>\n",
       "      <td>0.86</td>\n",
       "      <td>122.47</td>\n",
       "    </tr>\n",
       "    <tr>\n",
       "      <th>ORCL</th>\n",
       "      <td>Oracle Corporation</td>\n",
       "      <td>54.52</td>\n",
       "      <td>0.04</td>\n",
       "      <td>+0.07%</td>\n",
       "      <td>8.021M</td>\n",
       "      <td>14.265M</td>\n",
       "      <td>186.33B</td>\n",
       "      <td>19.53</td>\n",
       "      <td>1.04</td>\n",
       "      <td>53.07</td>\n",
       "    </tr>\n",
       "  </tbody>\n",
       "</table>\n",
       "</div>"
      ],
      "text/plain": [
       "                                               name   price  change  \\\n",
       "symbol                                                                \n",
       "AAPL                                     Apple Inc.  203.86    0.73   \n",
       "TXN                  Texas Instruments Incorporated  115.51   -0.09   \n",
       "NVDA                             NVIDIA Corporation  186.30   -0.99   \n",
       "ACN                                   Accenture plc  178.61   -0.34   \n",
       "CRM                            salesforce.com, inc.  155.99    0.65   \n",
       "IBM     International Business Machines Corporation  140.33    1.22   \n",
       "AVGO                                  Broadcom Inc.  318.62   -1.91   \n",
       "ADBE                                     Adobe Inc.  270.57    1.12   \n",
       "SAP                                          SAP SE  112.97    0.66   \n",
       "ORCL                             Oracle Corporation   54.52    0.04   \n",
       "\n",
       "       perc_change   volume volume_3_mth_avg market_cap  pe_ratio  \\\n",
       "symbol                                                              \n",
       "AAPL        +0.36%  24.196M          28.307M   961.257B     16.82   \n",
       "TXN         -0.08%   4.196M           5.499M    108.42B     20.65   \n",
       "NVDA        -0.53%   9.525M          15.613M   113.362B     28.10   \n",
       "ACN         -0.19%   1.279M           1.976M   113.923B     25.99   \n",
       "CRM         +0.42%     4.2M           5.305M   120.873B    109.08   \n",
       "IBM         +0.88%   4.705M           4.254M   124.875B     14.77   \n",
       "AVGO        -0.60%   2.655M           2.694M   126.124B     21.04   \n",
       "ADBE        +0.42%   2.029M           2.871M   132.025B     50.20   \n",
       "SAP         +0.59%  481,087          722,966   135.003B     27.29   \n",
       "ORCL        +0.07%   8.021M          14.265M    186.33B     19.53   \n",
       "\n",
       "        beta_3y_mthly one_yr_target_est  \n",
       "symbol                                   \n",
       "AAPL             0.91            193.12  \n",
       "TXN              1.12            109.32  \n",
       "NVDA             2.37            183.19  \n",
       "ACN              1.14            183.52  \n",
       "CRM              1.05            181.63  \n",
       "IBM              1.68            143.72  \n",
       "AVGO             0.27            312.45  \n",
       "ADBE             1.03            292.67  \n",
       "SAP              0.86            122.47  \n",
       "ORCL             1.04             53.07  "
      ]
     },
     "execution_count": 5,
     "metadata": {},
     "output_type": "execute_result"
    }
   ],
   "source": [
    "tech_stocks.head(10)"
   ]
  },
  {
   "cell_type": "code",
   "execution_count": 6,
   "metadata": {},
   "outputs": [
    {
     "data": {
      "text/plain": [
       "(467, 10)"
      ]
     },
     "execution_count": 6,
     "metadata": {},
     "output_type": "execute_result"
    }
   ],
   "source": [
    "tech_stocks.shape"
   ]
  },
  {
   "cell_type": "markdown",
   "metadata": {},
   "source": [
    "There are 467 stocks. Performance is captured on 9 variables excluding name."
   ]
  },
  {
   "cell_type": "code",
   "execution_count": 7,
   "metadata": {},
   "outputs": [
    {
     "data": {
      "text/plain": [
       "name                  object\n",
       "price                 object\n",
       "change               float64\n",
       "perc_change           object\n",
       "volume                object\n",
       "volume_3_mth_avg      object\n",
       "market_cap            object\n",
       "pe_ratio             float64\n",
       "beta_3y_mthly        float64\n",
       "one_yr_target_est     object\n",
       "dtype: object"
      ]
     },
     "execution_count": 7,
     "metadata": {},
     "output_type": "execute_result"
    }
   ],
   "source": [
    "tech_stocks.dtypes"
   ]
  },
  {
   "cell_type": "markdown",
   "metadata": {},
   "source": [
    "### Converting strings values into float:"
   ]
  },
  {
   "cell_type": "code",
   "execution_count": 8,
   "metadata": {},
   "outputs": [],
   "source": [
    "tech_stocks.price = tech_stocks.price.str.replace(',', '').astype(float)"
   ]
  },
  {
   "cell_type": "code",
   "execution_count": 9,
   "metadata": {},
   "outputs": [],
   "source": [
    "tech_stocks.perc_change = tech_stocks.perc_change.str.replace('%', '').astype(float)"
   ]
  },
  {
   "cell_type": "code",
   "execution_count": 10,
   "metadata": {},
   "outputs": [],
   "source": [
    "tech_stocks.volume = tech_stocks.volume.str.replace(',', '')\n",
    "tech_stocks.volume = [float(x.replace('M', ''))*1000000 if 'M' in x else float(x) for x in tech_stocks.volume]"
   ]
  },
  {
   "cell_type": "markdown",
   "metadata": {},
   "source": [
    "Some columns have a mix of M (for mn), B (for bn) and normal values. Bringing them into same denomination."
   ]
  },
  {
   "cell_type": "code",
   "execution_count": 11,
   "metadata": {},
   "outputs": [],
   "source": [
    "tech_stocks.volume_3_mth_avg = tech_stocks.volume_3_mth_avg.str.replace(',', '')\n",
    "tech_stocks.volume_3_mth_avg = [float(x.replace('M', ''))*1000000 if 'M' in x else float(x) for x in tech_stocks.volume_3_mth_avg]"
   ]
  },
  {
   "cell_type": "code",
   "execution_count": 15,
   "metadata": {},
   "outputs": [],
   "source": [
    "tech_stocks.market_cap = tech_stocks.market_cap.str.replace(',', '')\n",
    "tech_stocks.market_cap = [float(x.replace('M', ''))*1000000 if 'M' in x else float(x.replace('B', ''))*1000000000 if 'B' in x else float(x) for x in tech_stocks.market_cap]"
   ]
  },
  {
   "cell_type": "code",
   "execution_count": 18,
   "metadata": {},
   "outputs": [],
   "source": [
    "tech_stocks.one_yr_target_est = tech_stocks.one_yr_target_est.str.replace(',', '').astype(float)"
   ]
  },
  {
   "cell_type": "code",
   "execution_count": 19,
   "metadata": {},
   "outputs": [
    {
     "data": {
      "text/html": [
       "<div>\n",
       "<style scoped>\n",
       "    .dataframe tbody tr th:only-of-type {\n",
       "        vertical-align: middle;\n",
       "    }\n",
       "\n",
       "    .dataframe tbody tr th {\n",
       "        vertical-align: top;\n",
       "    }\n",
       "\n",
       "    .dataframe thead th {\n",
       "        text-align: right;\n",
       "    }\n",
       "</style>\n",
       "<table border=\"1\" class=\"dataframe\">\n",
       "  <thead>\n",
       "    <tr style=\"text-align: right;\">\n",
       "      <th></th>\n",
       "      <th>name</th>\n",
       "      <th>price</th>\n",
       "      <th>change</th>\n",
       "      <th>perc_change</th>\n",
       "      <th>volume</th>\n",
       "      <th>volume_3_mth_avg</th>\n",
       "      <th>market_cap</th>\n",
       "      <th>pe_ratio</th>\n",
       "      <th>beta_3y_mthly</th>\n",
       "      <th>one_yr_target_est</th>\n",
       "    </tr>\n",
       "    <tr>\n",
       "      <th>symbol</th>\n",
       "      <th></th>\n",
       "      <th></th>\n",
       "      <th></th>\n",
       "      <th></th>\n",
       "      <th></th>\n",
       "      <th></th>\n",
       "      <th></th>\n",
       "      <th></th>\n",
       "      <th></th>\n",
       "      <th></th>\n",
       "    </tr>\n",
       "  </thead>\n",
       "  <tbody>\n",
       "    <tr>\n",
       "      <th>MX</th>\n",
       "      <td>MagnaChip Semiconductor Corporation</td>\n",
       "      <td>8.36</td>\n",
       "      <td>0.13</td>\n",
       "      <td>1.58</td>\n",
       "      <td>240531.0</td>\n",
       "      <td>303450.0</td>\n",
       "      <td>2.850040e+08</td>\n",
       "      <td>NaN</td>\n",
       "      <td>1.81</td>\n",
       "      <td>10.10</td>\n",
       "    </tr>\n",
       "    <tr>\n",
       "      <th>EBIX</th>\n",
       "      <td>Ebix, Inc.</td>\n",
       "      <td>47.50</td>\n",
       "      <td>-0.37</td>\n",
       "      <td>-0.77</td>\n",
       "      <td>345715.0</td>\n",
       "      <td>320246.0</td>\n",
       "      <td>1.451000e+09</td>\n",
       "      <td>16.10</td>\n",
       "      <td>2.09</td>\n",
       "      <td>95.00</td>\n",
       "    </tr>\n",
       "    <tr>\n",
       "      <th>ECOM</th>\n",
       "      <td>ChannelAdvisor Corporation</td>\n",
       "      <td>11.43</td>\n",
       "      <td>-0.06</td>\n",
       "      <td>-0.52</td>\n",
       "      <td>64376.0</td>\n",
       "      <td>102300.0</td>\n",
       "      <td>3.177250e+08</td>\n",
       "      <td>NaN</td>\n",
       "      <td>-0.06</td>\n",
       "      <td>16.00</td>\n",
       "    </tr>\n",
       "    <tr>\n",
       "      <th>DOCU</th>\n",
       "      <td>DocuSign, Inc.</td>\n",
       "      <td>52.79</td>\n",
       "      <td>-0.39</td>\n",
       "      <td>-0.73</td>\n",
       "      <td>1903000.0</td>\n",
       "      <td>2233000.0</td>\n",
       "      <td>8.969000e+09</td>\n",
       "      <td>NaN</td>\n",
       "      <td>NaN</td>\n",
       "      <td>66.10</td>\n",
       "    </tr>\n",
       "    <tr>\n",
       "      <th>SAIC</th>\n",
       "      <td>Science Applications International Corporation</td>\n",
       "      <td>73.01</td>\n",
       "      <td>0.59</td>\n",
       "      <td>0.81</td>\n",
       "      <td>612672.0</td>\n",
       "      <td>429853.0</td>\n",
       "      <td>4.331000e+09</td>\n",
       "      <td>23.48</td>\n",
       "      <td>1.11</td>\n",
       "      <td>89.67</td>\n",
       "    </tr>\n",
       "    <tr>\n",
       "      <th>JCOM</th>\n",
       "      <td>j2 Global, Inc.</td>\n",
       "      <td>88.40</td>\n",
       "      <td>-0.49</td>\n",
       "      <td>-0.55</td>\n",
       "      <td>168356.0</td>\n",
       "      <td>350490.0</td>\n",
       "      <td>4.310000e+09</td>\n",
       "      <td>34.13</td>\n",
       "      <td>0.92</td>\n",
       "      <td>98.75</td>\n",
       "    </tr>\n",
       "    <tr>\n",
       "      <th>DQ</th>\n",
       "      <td>Daqo New Energy Corp.</td>\n",
       "      <td>37.30</td>\n",
       "      <td>-0.17</td>\n",
       "      <td>-0.45</td>\n",
       "      <td>220733.0</td>\n",
       "      <td>360664.0</td>\n",
       "      <td>4.798200e+08</td>\n",
       "      <td>12.60</td>\n",
       "      <td>2.83</td>\n",
       "      <td>51.67</td>\n",
       "    </tr>\n",
       "    <tr>\n",
       "      <th>BRKS</th>\n",
       "      <td>Brooks Automation, Inc.</td>\n",
       "      <td>31.70</td>\n",
       "      <td>-0.11</td>\n",
       "      <td>-0.35</td>\n",
       "      <td>334552.0</td>\n",
       "      <td>609590.0</td>\n",
       "      <td>2.281000e+09</td>\n",
       "      <td>19.73</td>\n",
       "      <td>2.15</td>\n",
       "      <td>41.67</td>\n",
       "    </tr>\n",
       "    <tr>\n",
       "      <th>UEIC</th>\n",
       "      <td>Universal Electronics Inc.</td>\n",
       "      <td>37.69</td>\n",
       "      <td>-0.23</td>\n",
       "      <td>-0.61</td>\n",
       "      <td>101436.0</td>\n",
       "      <td>145195.0</td>\n",
       "      <td>5.217280e+08</td>\n",
       "      <td>44.34</td>\n",
       "      <td>1.68</td>\n",
       "      <td>45.00</td>\n",
       "    </tr>\n",
       "    <tr>\n",
       "      <th>XPER</th>\n",
       "      <td>Xperi Corporation</td>\n",
       "      <td>25.21</td>\n",
       "      <td>-0.49</td>\n",
       "      <td>-1.91</td>\n",
       "      <td>233998.0</td>\n",
       "      <td>493800.0</td>\n",
       "      <td>1.238000e+09</td>\n",
       "      <td>NaN</td>\n",
       "      <td>-0.38</td>\n",
       "      <td>32.67</td>\n",
       "    </tr>\n",
       "  </tbody>\n",
       "</table>\n",
       "</div>"
      ],
      "text/plain": [
       "                                                  name  price  change  \\\n",
       "symbol                                                                  \n",
       "MX                 MagnaChip Semiconductor Corporation   8.36    0.13   \n",
       "EBIX                                        Ebix, Inc.  47.50   -0.37   \n",
       "ECOM                        ChannelAdvisor Corporation  11.43   -0.06   \n",
       "DOCU                                    DocuSign, Inc.  52.79   -0.39   \n",
       "SAIC    Science Applications International Corporation  73.01    0.59   \n",
       "JCOM                                   j2 Global, Inc.  88.40   -0.49   \n",
       "DQ                               Daqo New Energy Corp.  37.30   -0.17   \n",
       "BRKS                           Brooks Automation, Inc.  31.70   -0.11   \n",
       "UEIC                        Universal Electronics Inc.  37.69   -0.23   \n",
       "XPER                                 Xperi Corporation  25.21   -0.49   \n",
       "\n",
       "        perc_change     volume  volume_3_mth_avg    market_cap  pe_ratio  \\\n",
       "symbol                                                                     \n",
       "MX             1.58   240531.0          303450.0  2.850040e+08       NaN   \n",
       "EBIX          -0.77   345715.0          320246.0  1.451000e+09     16.10   \n",
       "ECOM          -0.52    64376.0          102300.0  3.177250e+08       NaN   \n",
       "DOCU          -0.73  1903000.0         2233000.0  8.969000e+09       NaN   \n",
       "SAIC           0.81   612672.0          429853.0  4.331000e+09     23.48   \n",
       "JCOM          -0.55   168356.0          350490.0  4.310000e+09     34.13   \n",
       "DQ            -0.45   220733.0          360664.0  4.798200e+08     12.60   \n",
       "BRKS          -0.35   334552.0          609590.0  2.281000e+09     19.73   \n",
       "UEIC          -0.61   101436.0          145195.0  5.217280e+08     44.34   \n",
       "XPER          -1.91   233998.0          493800.0  1.238000e+09       NaN   \n",
       "\n",
       "        beta_3y_mthly  one_yr_target_est  \n",
       "symbol                                    \n",
       "MX               1.81              10.10  \n",
       "EBIX             2.09              95.00  \n",
       "ECOM            -0.06              16.00  \n",
       "DOCU              NaN              66.10  \n",
       "SAIC             1.11              89.67  \n",
       "JCOM             0.92              98.75  \n",
       "DQ               2.83              51.67  \n",
       "BRKS             2.15              41.67  \n",
       "UEIC             1.68              45.00  \n",
       "XPER            -0.38              32.67  "
      ]
     },
     "execution_count": 19,
     "metadata": {},
     "output_type": "execute_result"
    }
   ],
   "source": [
    "tech_stocks.sample(10)"
   ]
  },
  {
   "cell_type": "markdown",
   "metadata": {},
   "source": [
    "### Sanity check of conversions"
   ]
  },
  {
   "cell_type": "code",
   "execution_count": 20,
   "metadata": {},
   "outputs": [
    {
     "data": {
      "text/plain": [
       "name                  object\n",
       "price                float64\n",
       "change               float64\n",
       "perc_change          float64\n",
       "volume               float64\n",
       "volume_3_mth_avg     float64\n",
       "market_cap           float64\n",
       "pe_ratio             float64\n",
       "beta_3y_mthly        float64\n",
       "one_yr_target_est    float64\n",
       "dtype: object"
      ]
     },
     "execution_count": 20,
     "metadata": {},
     "output_type": "execute_result"
    }
   ],
   "source": [
    "# Confirming if all data types are as required\n",
    "tech_stocks.dtypes"
   ]
  },
  {
   "cell_type": "code",
   "execution_count": 23,
   "metadata": {},
   "outputs": [
    {
     "name": "stdout",
     "output_type": "stream",
     "text": [
      "symbol\n",
      "SAP    481087.0\n",
      "Name: volume, dtype: float64\n",
      "symbol\n",
      "IBM    4705000.0\n",
      "Name: volume, dtype: float64\n"
     ]
    }
   ],
   "source": [
    "print(tech_stocks.volume[tech_stocks.index == 'SAP'])\n",
    "print(tech_stocks.volume[tech_stocks.index == 'IBM'])"
   ]
  },
  {
   "cell_type": "code",
   "execution_count": 24,
   "metadata": {},
   "outputs": [
    {
     "name": "stdout",
     "output_type": "stream",
     "text": [
      "symbol\n",
      "FTV-PA    9215.0\n",
      "Name: volume_3_mth_avg, dtype: float64\n",
      "symbol\n",
      "NXPI    3779000.0\n",
      "Name: volume_3_mth_avg, dtype: float64\n"
     ]
    }
   ],
   "source": [
    "print(tech_stocks.volume_3_mth_avg[tech_stocks.index == 'FTV-PA'])\n",
    "print(tech_stocks.volume_3_mth_avg[tech_stocks.index == 'NXPI'])"
   ]
  },
  {
   "cell_type": "code",
   "execution_count": 25,
   "metadata": {},
   "outputs": [
    {
     "name": "stdout",
     "output_type": "stream",
     "text": [
      "symbol\n",
      "MINDP    46660000.0\n",
      "Name: market_cap, dtype: float64\n",
      "symbol\n",
      "AAPL    9.612570e+11\n",
      "Name: market_cap, dtype: float64\n"
     ]
    }
   ],
   "source": [
    "print(tech_stocks.market_cap[tech_stocks.index == 'MINDP'])\n",
    "print(tech_stocks.market_cap[tech_stocks.index == 'AAPL'])"
   ]
  },
  {
   "cell_type": "code",
   "execution_count": 39,
   "metadata": {},
   "outputs": [
    {
     "data": {
      "text/plain": [
       "price                1.241470e+03\n",
       "change               6.000000e+00\n",
       "perc_change          1.536000e+01\n",
       "volume               3.913700e+07\n",
       "volume_3_mth_avg     7.733600e+07\n",
       "market_cap           9.612570e+11\n",
       "pe_ratio             9.537500e+02\n",
       "beta_3y_mthly        4.050000e+00\n",
       "one_yr_target_est    2.446300e+03\n",
       "dtype: float64"
      ]
     },
     "execution_count": 39,
     "metadata": {},
     "output_type": "execute_result"
    }
   ],
   "source": [
    "# Highest value in each variable\n",
    "tech_stocks.iloc[: , 1:].apply(lambda x: max(x), axis=0)"
   ]
  },
  {
   "cell_type": "markdown",
   "metadata": {},
   "source": [
    "-----------------"
   ]
  },
  {
   "cell_type": "markdown",
   "metadata": {},
   "source": [
    "## Percentage Change over Previous Day"
   ]
  },
  {
   "cell_type": "markdown",
   "metadata": {},
   "source": [
    "It was not a good day for the technology stocks. \n",
    "* 242 stocks out of 467 had negative returns.\n",
    "* Mean percentage change over previous day was -0.24% (with a standard deviation of 2.17%)."
   ]
  },
  {
   "cell_type": "code",
   "execution_count": 42,
   "metadata": {},
   "outputs": [
    {
     "data": {
      "text/plain": [
       "<matplotlib.axes._subplots.AxesSubplot at 0x1d8d530e240>"
      ]
     },
     "execution_count": 42,
     "metadata": {},
     "output_type": "execute_result"
    },
    {
     "data": {
      "image/png": "[encoded data removed]",
      "text/plain": [
       "<Figure size 432x288 with 1 Axes>"
      ]
     },
     "metadata": {
      "needs_background": "light"
     },
     "output_type": "display_data"
    }
   ],
   "source": [
    "# Distribution of percentage change\n",
    "tech_stocks.plot(y = 'perc_change', kind = 'hist', bins = 30)"
   ]
  },
  {
   "cell_type": "markdown",
   "metadata": {},
   "source": [
    "Except for a few outliers, most of the stocks were in the range -5% to +5%. Plotting in this range:"
   ]
  },
  {
   "cell_type": "code",
   "execution_count": 74,
   "metadata": {},
   "outputs": [
    {
     "data": {
      "text/plain": [
       "(-5, 5)"
      ]
     },
     "execution_count": 74,
     "metadata": {},
     "output_type": "execute_result"
    },
    {
     "data": {
      "image/png": "[encoded data removed]",
      "text/plain": [
       "<Figure size 432x288 with 1 Axes>"
      ]
     },
     "metadata": {
      "needs_background": "light"
     },
     "output_type": "display_data"
    }
   ],
   "source": [
    "from matplotlib import pyplot as plt\n",
    "plt.hist(tech_stocks.perc_change, bins = 30)\n",
    "plt.xlim(-5, +5)"
   ]
  },
  {
   "cell_type": "markdown",
   "metadata": {},
   "source": [
    "There is a slight skew to left, showing that even after excluding outliers more stocks had a -ve price change."
   ]
  },
  {
   "cell_type": "code",
   "execution_count": 93,
   "metadata": {},
   "outputs": [
    {
     "name": "stdout",
     "output_type": "stream",
     "text": [
      "9\n"
     ]
    },
    {
     "data": {
      "text/html": [
       "<div>\n",
       "<style scoped>\n",
       "    .dataframe tbody tr th:only-of-type {\n",
       "        vertical-align: middle;\n",
       "    }\n",
       "\n",
       "    .dataframe tbody tr th {\n",
       "        vertical-align: top;\n",
       "    }\n",
       "\n",
       "    .dataframe thead th {\n",
       "        text-align: right;\n",
       "    }\n",
       "</style>\n",
       "<table border=\"1\" class=\"dataframe\">\n",
       "  <thead>\n",
       "    <tr style=\"text-align: right;\">\n",
       "      <th></th>\n",
       "      <th>name</th>\n",
       "      <th>price</th>\n",
       "      <th>change</th>\n",
       "      <th>perc_change</th>\n",
       "      <th>volume</th>\n",
       "      <th>volume_3_mth_avg</th>\n",
       "      <th>market_cap</th>\n",
       "      <th>pe_ratio</th>\n",
       "      <th>beta_3y_mthly</th>\n",
       "      <th>one_yr_target_est</th>\n",
       "    </tr>\n",
       "    <tr>\n",
       "      <th>symbol</th>\n",
       "      <th></th>\n",
       "      <th></th>\n",
       "      <th></th>\n",
       "      <th></th>\n",
       "      <th></th>\n",
       "      <th></th>\n",
       "      <th></th>\n",
       "      <th></th>\n",
       "      <th></th>\n",
       "      <th></th>\n",
       "    </tr>\n",
       "  </thead>\n",
       "  <tbody>\n",
       "    <tr>\n",
       "      <th>STNE</th>\n",
       "      <td>StoneCo Ltd.</td>\n",
       "      <td>26.51</td>\n",
       "      <td>-8.23</td>\n",
       "      <td>-23.69</td>\n",
       "      <td>32482000.0</td>\n",
       "      <td>2961000.0</td>\n",
       "      <td>7.354000e+09</td>\n",
       "      <td>141.01</td>\n",
       "      <td>NaN</td>\n",
       "      <td>33.31</td>\n",
       "    </tr>\n",
       "    <tr>\n",
       "      <th>PAGS</th>\n",
       "      <td>PagSeguro Digital Ltd.</td>\n",
       "      <td>25.30</td>\n",
       "      <td>-2.73</td>\n",
       "      <td>-9.74</td>\n",
       "      <td>13048000.0</td>\n",
       "      <td>2291000.0</td>\n",
       "      <td>8.280000e+09</td>\n",
       "      <td>36.35</td>\n",
       "      <td>NaN</td>\n",
       "      <td>31.31</td>\n",
       "    </tr>\n",
       "    <tr>\n",
       "      <th>PLXS</th>\n",
       "      <td>Plexus Corp.</td>\n",
       "      <td>61.05</td>\n",
       "      <td>-4.86</td>\n",
       "      <td>-7.37</td>\n",
       "      <td>354697.0</td>\n",
       "      <td>164262.0</td>\n",
       "      <td>1.887000e+09</td>\n",
       "      <td>15.36</td>\n",
       "      <td>1.11</td>\n",
       "      <td>69.00</td>\n",
       "    </tr>\n",
       "    <tr>\n",
       "      <th>ADTN</th>\n",
       "      <td>ADTRAN, Inc.</td>\n",
       "      <td>16.59</td>\n",
       "      <td>2.04</td>\n",
       "      <td>14.02</td>\n",
       "      <td>2003000.0</td>\n",
       "      <td>365724.0</td>\n",
       "      <td>7.926200e+08</td>\n",
       "      <td>NaN</td>\n",
       "      <td>1.81</td>\n",
       "      <td>15.25</td>\n",
       "    </tr>\n",
       "    <tr>\n",
       "      <th>VIOT</th>\n",
       "      <td>Viomi Technology Co., Ltd</td>\n",
       "      <td>15.25</td>\n",
       "      <td>2.03</td>\n",
       "      <td>15.36</td>\n",
       "      <td>563320.0</td>\n",
       "      <td>105412.0</td>\n",
       "      <td>1.056000e+09</td>\n",
       "      <td>NaN</td>\n",
       "      <td>NaN</td>\n",
       "      <td>11.23</td>\n",
       "    </tr>\n",
       "    <tr>\n",
       "      <th>DAVA</th>\n",
       "      <td>Endava plc</td>\n",
       "      <td>30.00</td>\n",
       "      <td>2.10</td>\n",
       "      <td>7.53</td>\n",
       "      <td>2021000.0</td>\n",
       "      <td>47641.0</td>\n",
       "      <td>1.487000e+09</td>\n",
       "      <td>71.60</td>\n",
       "      <td>NaN</td>\n",
       "      <td>2446.30</td>\n",
       "    </tr>\n",
       "    <tr>\n",
       "      <th>ARCE</th>\n",
       "      <td>Arco Platform Limited</td>\n",
       "      <td>30.43</td>\n",
       "      <td>-2.22</td>\n",
       "      <td>-6.80</td>\n",
       "      <td>31007.0</td>\n",
       "      <td>64422.0</td>\n",
       "      <td>1.529000e+09</td>\n",
       "      <td>596.67</td>\n",
       "      <td>NaN</td>\n",
       "      <td>30.87</td>\n",
       "    </tr>\n",
       "    <tr>\n",
       "      <th>CHKP</th>\n",
       "      <td>Check Point Software Technologies Ltd.</td>\n",
       "      <td>119.99</td>\n",
       "      <td>-9.54</td>\n",
       "      <td>-7.37</td>\n",
       "      <td>5043000.0</td>\n",
       "      <td>948116.0</td>\n",
       "      <td>1.874400e+10</td>\n",
       "      <td>23.30</td>\n",
       "      <td>0.70</td>\n",
       "      <td>121.33</td>\n",
       "    </tr>\n",
       "    <tr>\n",
       "      <th>TEAM</th>\n",
       "      <td>Atlassian Corporation Plc</td>\n",
       "      <td>101.94</td>\n",
       "      <td>-9.25</td>\n",
       "      <td>-8.32</td>\n",
       "      <td>7539000.0</td>\n",
       "      <td>1613000.0</td>\n",
       "      <td>2.441500e+10</td>\n",
       "      <td>NaN</td>\n",
       "      <td>1.63</td>\n",
       "      <td>116.53</td>\n",
       "    </tr>\n",
       "  </tbody>\n",
       "</table>\n",
       "</div>"
      ],
      "text/plain": [
       "                                          name   price  change  perc_change  \\\n",
       "symbol                                                                        \n",
       "STNE                              StoneCo Ltd.   26.51   -8.23       -23.69   \n",
       "PAGS                    PagSeguro Digital Ltd.   25.30   -2.73        -9.74   \n",
       "PLXS                              Plexus Corp.   61.05   -4.86        -7.37   \n",
       "ADTN                              ADTRAN, Inc.   16.59    2.04        14.02   \n",
       "VIOT                 Viomi Technology Co., Ltd   15.25    2.03        15.36   \n",
       "DAVA                                Endava plc   30.00    2.10         7.53   \n",
       "ARCE                     Arco Platform Limited   30.43   -2.22        -6.80   \n",
       "CHKP    Check Point Software Technologies Ltd.  119.99   -9.54        -7.37   \n",
       "TEAM                 Atlassian Corporation Plc  101.94   -9.25        -8.32   \n",
       "\n",
       "            volume  volume_3_mth_avg    market_cap  pe_ratio  beta_3y_mthly  \\\n",
       "symbol                                                                        \n",
       "STNE    32482000.0         2961000.0  7.354000e+09    141.01            NaN   \n",
       "PAGS    13048000.0         2291000.0  8.280000e+09     36.35            NaN   \n",
       "PLXS      354697.0          164262.0  1.887000e+09     15.36           1.11   \n",
       "ADTN     2003000.0          365724.0  7.926200e+08       NaN           1.81   \n",
       "VIOT      563320.0          105412.0  1.056000e+09       NaN            NaN   \n",
       "DAVA     2021000.0           47641.0  1.487000e+09     71.60            NaN   \n",
       "ARCE       31007.0           64422.0  1.529000e+09    596.67            NaN   \n",
       "CHKP     5043000.0          948116.0  1.874400e+10     23.30           0.70   \n",
       "TEAM     7539000.0         1613000.0  2.441500e+10       NaN           1.63   \n",
       "\n",
       "        one_yr_target_est  \n",
       "symbol                     \n",
       "STNE                33.31  \n",
       "PAGS                31.31  \n",
       "PLXS                69.00  \n",
       "ADTN                15.25  \n",
       "VIOT                11.23  \n",
       "DAVA              2446.30  \n",
       "ARCE                30.87  \n",
       "CHKP               121.33  \n",
       "TEAM               116.53  "
      ]
     },
     "execution_count": 93,
     "metadata": {},
     "output_type": "execute_result"
    }
   ],
   "source": [
    "# Outliers - Stock having returns more than 3-sigma away from mean\n",
    "outliers = tech_stocks.perc_change\n",
    "outliers = tech_stocks[np.abs((outliers - np.mean(outliers)))/np.std(outliers)>3]\n",
    "print(outliers.shape[0])\n",
    "outliers"
   ]
  },
  {
   "cell_type": "markdown",
   "metadata": {},
   "source": [
    "9 stocks wer more than 3 standard deviations away from mean for technology stocks."
   ]
  },
  {
   "cell_type": "code",
   "execution_count": 45,
   "metadata": {},
   "outputs": [
    {
     "data": {
      "text/plain": [
       "count    467.000000\n",
       "mean      -0.237345\n",
       "std        2.165550\n",
       "min      -23.690000\n",
       "25%       -0.790000\n",
       "50%       -0.090000\n",
       "75%        0.545000\n",
       "max       15.360000\n",
       "Name: perc_change, dtype: float64"
      ]
     },
     "execution_count": 45,
     "metadata": {},
     "output_type": "execute_result"
    }
   ],
   "source": [
    "# Performance statistics of all stocks\n",
    "tech_stocks.perc_change.describe()"
   ]
  },
  {
   "cell_type": "code",
   "execution_count": 52,
   "metadata": {},
   "outputs": [
    {
     "data": {
      "text/plain": [
       "242"
      ]
     },
     "execution_count": 52,
     "metadata": {},
     "output_type": "execute_result"
    }
   ],
   "source": [
    "# Number of stocks having -ve returns\n",
    "tech_stocks[tech_stocks.perc_change < 0].shape[0]"
   ]
  },
  {
   "cell_type": "markdown",
   "metadata": {},
   "source": [
    "242 out of 467 stocks had -ve price change."
   ]
  },
  {
   "cell_type": "markdown",
   "metadata": {},
   "source": [
    "----------"
   ]
  },
  {
   "cell_type": "code",
   "execution_count": 88,
   "metadata": {},
   "outputs": [
    {
     "data": {
      "text/plain": [
       "(-5, 5)"
      ]
     },
     "execution_count": 88,
     "metadata": {},
     "output_type": "execute_result"
    },
    {
     "data": {
      "image/png": "[encoded data removed]",
      "text/plain": [
       "<Figure size 432x288 with 1 Axes>"
      ]
     },
     "metadata": {
      "needs_background": "light"
     },
     "output_type": "display_data"
    }
   ],
   "source": [
    "plt.scatter(tech_stocks['market_cap'], tech_stocks['perc_change'])\n",
    "plt.xlabel('Market Capitalization')\n",
    "plt.ylabel('Percentage Change')\n",
    "plt.ylim(-5, +5)"
   ]
  },
  {
   "cell_type": "markdown",
   "metadata": {},
   "source": [
    "There is no clear link between market capitalization and percentage change. A few stocks have very high market capitalization compared to others; maybe taking log of market capitalization will make the relationship clear."
   ]
  },
  {
   "cell_type": "code",
   "execution_count": 97,
   "metadata": {},
   "outputs": [
    {
     "name": "stderr",
     "output_type": "stream",
     "text": [
      "C:\\Users\\sd_in\\Anaconda3\\lib\\site-packages\\ipykernel_launcher.py:2: SettingWithCopyWarning: \n",
      "A value is trying to be set on a copy of a slice from a DataFrame.\n",
      "Try using .loc[row_indexer,col_indexer] = value instead\n",
      "\n",
      "See the caveats in the documentation: http://pandas.pydata.org/pandas-docs/stable/indexing.html#indexing-view-versus-copy\n",
      "  \n"
     ]
    },
    {
     "data": {
      "text/plain": [
       "Text(0, 0.5, 'Percentage Change')"
      ]
     },
     "execution_count": 97,
     "metadata": {},
     "output_type": "execute_result"
    },
    {
     "data": {
      "image/png": "[encoded data removed]",
      "text/plain": [
       "<Figure size 432x288 with 1 Axes>"
      ]
     },
     "metadata": {
      "needs_background": "light"
     },
     "output_type": "display_data"
    }
   ],
   "source": [
    "tech_ = tech_stocks[['market_cap', 'perc_change']]\n",
    "tech_['log_m_cap'] = np.log(tech_['market_cap'])\n",
    "plt.scatter(tech_['log_m_cap'], tech_['perc_change'])\n",
    "plt.xlabel('Log of Market Capitalization')\n",
    "plt.ylabel('Percentage Change')\n",
    "#plt.ylim(-5, +5)"
   ]
  },
  {
   "cell_type": "code",
   "execution_count": 98,
   "metadata": {},
   "outputs": [
    {
     "name": "stderr",
     "output_type": "stream",
     "text": [
      "C:\\Users\\sd_in\\Anaconda3\\lib\\site-packages\\ipykernel_launcher.py:2: SettingWithCopyWarning: \n",
      "A value is trying to be set on a copy of a slice from a DataFrame.\n",
      "Try using .loc[row_indexer,col_indexer] = value instead\n",
      "\n",
      "See the caveats in the documentation: http://pandas.pydata.org/pandas-docs/stable/indexing.html#indexing-view-versus-copy\n",
      "  \n"
     ]
    },
    {
     "data": {
      "text/plain": [
       "(-5, 5)"
      ]
     },
     "execution_count": 98,
     "metadata": {},
     "output_type": "execute_result"
    },
    {
     "data": {
      "image/png": "[encoded data removed]",
      "text/plain": [
       "<Figure size 432x288 with 1 Axes>"
      ]
     },
     "metadata": {
      "needs_background": "light"
     },
     "output_type": "display_data"
    }
   ],
   "source": [
    "tech_ = tech_stocks[['market_cap', 'perc_change']]\n",
    "tech_['log_m_cap'] = np.log(tech_['market_cap'])\n",
    "plt.scatter(tech_['log_m_cap'], tech_['perc_change'])\n",
    "plt.xlabel('Log of Market Capitalization')\n",
    "plt.ylabel('Percentage Change')\n",
    "plt.ylim(-5, +5)"
   ]
  },
  {
   "cell_type": "markdown",
   "metadata": {},
   "source": [
    "There is no strong link between log of market capitalization and percentage change in price. Though variabilty of price change is more in low market capitalization stocks."
   ]
  },
  {
   "cell_type": "code",
   "execution_count": 106,
   "metadata": {},
   "outputs": [
    {
     "data": {
      "text/html": [
       "<div>\n",
       "<style scoped>\n",
       "    .dataframe tbody tr th:only-of-type {\n",
       "        vertical-align: middle;\n",
       "    }\n",
       "\n",
       "    .dataframe tbody tr th {\n",
       "        vertical-align: top;\n",
       "    }\n",
       "\n",
       "    .dataframe thead th {\n",
       "        text-align: right;\n",
       "    }\n",
       "</style>\n",
       "<table border=\"1\" class=\"dataframe\">\n",
       "  <thead>\n",
       "    <tr style=\"text-align: right;\">\n",
       "      <th></th>\n",
       "      <th>name</th>\n",
       "      <th>price</th>\n",
       "      <th>change</th>\n",
       "      <th>perc_change</th>\n",
       "      <th>volume</th>\n",
       "      <th>volume_3_mth_avg</th>\n",
       "      <th>market_cap</th>\n",
       "      <th>pe_ratio</th>\n",
       "      <th>beta_3y_mthly</th>\n",
       "      <th>one_yr_target_est</th>\n",
       "      <th>mcap_category</th>\n",
       "    </tr>\n",
       "    <tr>\n",
       "      <th>symbol</th>\n",
       "      <th></th>\n",
       "      <th></th>\n",
       "      <th></th>\n",
       "      <th></th>\n",
       "      <th></th>\n",
       "      <th></th>\n",
       "      <th></th>\n",
       "      <th></th>\n",
       "      <th></th>\n",
       "      <th></th>\n",
       "      <th></th>\n",
       "    </tr>\n",
       "  </thead>\n",
       "  <tbody>\n",
       "    <tr>\n",
       "      <th>AAPL</th>\n",
       "      <td>Apple Inc.</td>\n",
       "      <td>203.86</td>\n",
       "      <td>0.73</td>\n",
       "      <td>0.36</td>\n",
       "      <td>24196000.0</td>\n",
       "      <td>28307000.0</td>\n",
       "      <td>9.612570e+11</td>\n",
       "      <td>16.82</td>\n",
       "      <td>0.91</td>\n",
       "      <td>193.12</td>\n",
       "      <td>high</td>\n",
       "    </tr>\n",
       "    <tr>\n",
       "      <th>TXN</th>\n",
       "      <td>Texas Instruments Incorporated</td>\n",
       "      <td>115.51</td>\n",
       "      <td>-0.09</td>\n",
       "      <td>-0.08</td>\n",
       "      <td>4196000.0</td>\n",
       "      <td>5499000.0</td>\n",
       "      <td>1.084200e+11</td>\n",
       "      <td>20.65</td>\n",
       "      <td>1.12</td>\n",
       "      <td>109.32</td>\n",
       "      <td>high</td>\n",
       "    </tr>\n",
       "    <tr>\n",
       "      <th>NVDA</th>\n",
       "      <td>NVIDIA Corporation</td>\n",
       "      <td>186.30</td>\n",
       "      <td>-0.99</td>\n",
       "      <td>-0.53</td>\n",
       "      <td>9525000.0</td>\n",
       "      <td>15613000.0</td>\n",
       "      <td>1.133620e+11</td>\n",
       "      <td>28.10</td>\n",
       "      <td>2.37</td>\n",
       "      <td>183.19</td>\n",
       "      <td>high</td>\n",
       "    </tr>\n",
       "    <tr>\n",
       "      <th>ACN</th>\n",
       "      <td>Accenture plc</td>\n",
       "      <td>178.61</td>\n",
       "      <td>-0.34</td>\n",
       "      <td>-0.19</td>\n",
       "      <td>1279000.0</td>\n",
       "      <td>1976000.0</td>\n",
       "      <td>1.139230e+11</td>\n",
       "      <td>25.99</td>\n",
       "      <td>1.14</td>\n",
       "      <td>183.52</td>\n",
       "      <td>high</td>\n",
       "    </tr>\n",
       "    <tr>\n",
       "      <th>CRM</th>\n",
       "      <td>salesforce.com, inc.</td>\n",
       "      <td>155.99</td>\n",
       "      <td>0.65</td>\n",
       "      <td>0.42</td>\n",
       "      <td>4200000.0</td>\n",
       "      <td>5305000.0</td>\n",
       "      <td>1.208730e+11</td>\n",
       "      <td>109.08</td>\n",
       "      <td>1.05</td>\n",
       "      <td>181.63</td>\n",
       "      <td>high</td>\n",
       "    </tr>\n",
       "    <tr>\n",
       "      <th>IBM</th>\n",
       "      <td>International Business Machines Corporation</td>\n",
       "      <td>140.33</td>\n",
       "      <td>1.22</td>\n",
       "      <td>0.88</td>\n",
       "      <td>4705000.0</td>\n",
       "      <td>4254000.0</td>\n",
       "      <td>1.248750e+11</td>\n",
       "      <td>14.77</td>\n",
       "      <td>1.68</td>\n",
       "      <td>143.72</td>\n",
       "      <td>high</td>\n",
       "    </tr>\n",
       "    <tr>\n",
       "      <th>AVGO</th>\n",
       "      <td>Broadcom Inc.</td>\n",
       "      <td>318.62</td>\n",
       "      <td>-1.91</td>\n",
       "      <td>-0.60</td>\n",
       "      <td>2655000.0</td>\n",
       "      <td>2694000.0</td>\n",
       "      <td>1.261240e+11</td>\n",
       "      <td>21.04</td>\n",
       "      <td>0.27</td>\n",
       "      <td>312.45</td>\n",
       "      <td>high</td>\n",
       "    </tr>\n",
       "    <tr>\n",
       "      <th>ADBE</th>\n",
       "      <td>Adobe Inc.</td>\n",
       "      <td>270.57</td>\n",
       "      <td>1.12</td>\n",
       "      <td>0.42</td>\n",
       "      <td>2029000.0</td>\n",
       "      <td>2871000.0</td>\n",
       "      <td>1.320250e+11</td>\n",
       "      <td>50.20</td>\n",
       "      <td>1.03</td>\n",
       "      <td>292.67</td>\n",
       "      <td>high</td>\n",
       "    </tr>\n",
       "    <tr>\n",
       "      <th>SAP</th>\n",
       "      <td>SAP SE</td>\n",
       "      <td>112.97</td>\n",
       "      <td>0.66</td>\n",
       "      <td>0.59</td>\n",
       "      <td>481087.0</td>\n",
       "      <td>722966.0</td>\n",
       "      <td>1.350030e+11</td>\n",
       "      <td>27.29</td>\n",
       "      <td>0.86</td>\n",
       "      <td>122.47</td>\n",
       "      <td>high</td>\n",
       "    </tr>\n",
       "    <tr>\n",
       "      <th>ORCL</th>\n",
       "      <td>Oracle Corporation</td>\n",
       "      <td>54.52</td>\n",
       "      <td>0.04</td>\n",
       "      <td>0.07</td>\n",
       "      <td>8021000.0</td>\n",
       "      <td>14265000.0</td>\n",
       "      <td>1.863300e+11</td>\n",
       "      <td>19.53</td>\n",
       "      <td>1.04</td>\n",
       "      <td>53.07</td>\n",
       "      <td>high</td>\n",
       "    </tr>\n",
       "  </tbody>\n",
       "</table>\n",
       "</div>"
      ],
      "text/plain": [
       "                                               name   price  change  \\\n",
       "symbol                                                                \n",
       "AAPL                                     Apple Inc.  203.86    0.73   \n",
       "TXN                  Texas Instruments Incorporated  115.51   -0.09   \n",
       "NVDA                             NVIDIA Corporation  186.30   -0.99   \n",
       "ACN                                   Accenture plc  178.61   -0.34   \n",
       "CRM                            salesforce.com, inc.  155.99    0.65   \n",
       "IBM     International Business Machines Corporation  140.33    1.22   \n",
       "AVGO                                  Broadcom Inc.  318.62   -1.91   \n",
       "ADBE                                     Adobe Inc.  270.57    1.12   \n",
       "SAP                                          SAP SE  112.97    0.66   \n",
       "ORCL                             Oracle Corporation   54.52    0.04   \n",
       "\n",
       "        perc_change      volume  volume_3_mth_avg    market_cap  pe_ratio  \\\n",
       "symbol                                                                      \n",
       "AAPL           0.36  24196000.0        28307000.0  9.612570e+11     16.82   \n",
       "TXN           -0.08   4196000.0         5499000.0  1.084200e+11     20.65   \n",
       "NVDA          -0.53   9525000.0        15613000.0  1.133620e+11     28.10   \n",
       "ACN           -0.19   1279000.0         1976000.0  1.139230e+11     25.99   \n",
       "CRM            0.42   4200000.0         5305000.0  1.208730e+11    109.08   \n",
       "IBM            0.88   4705000.0         4254000.0  1.248750e+11     14.77   \n",
       "AVGO          -0.60   2655000.0         2694000.0  1.261240e+11     21.04   \n",
       "ADBE           0.42   2029000.0         2871000.0  1.320250e+11     50.20   \n",
       "SAP            0.59    481087.0          722966.0  1.350030e+11     27.29   \n",
       "ORCL           0.07   8021000.0        14265000.0  1.863300e+11     19.53   \n",
       "\n",
       "        beta_3y_mthly  one_yr_target_est mcap_category  \n",
       "symbol                                                  \n",
       "AAPL             0.91             193.12          high  \n",
       "TXN              1.12             109.32          high  \n",
       "NVDA             2.37             183.19          high  \n",
       "ACN              1.14             183.52          high  \n",
       "CRM              1.05             181.63          high  \n",
       "IBM              1.68             143.72          high  \n",
       "AVGO             0.27             312.45          high  \n",
       "ADBE             1.03             292.67          high  \n",
       "SAP              0.86             122.47          high  \n",
       "ORCL             1.04              53.07          high  "
      ]
     },
     "execution_count": 106,
     "metadata": {},
     "output_type": "execute_result"
    }
   ],
   "source": [
    "tech_stocks['mcap_category'] = pd.qcut(tech_stocks['market_cap'], [0, .25, .75, 1.], labels=[\"low\", \"medium\", \"high\"])\n",
    "tech_stocks.head(10)"
   ]
  },
  {
   "cell_type": "code",
   "execution_count": 110,
   "metadata": {},
   "outputs": [
    {
     "data": {
      "text/plain": [
       "Text(0.5, 1.0, 'Percentage Change for different Market Cap')"
      ]
     },
     "execution_count": 110,
     "metadata": {},
     "output_type": "execute_result"
    },
    {
     "data": {
      "image/png": "[encoded data removed]",
      "text/plain": [
       "<Figure size 432x288 with 1 Axes>"
      ]
     },
     "metadata": {
      "needs_background": "light"
     },
     "output_type": "display_data"
    }
   ],
   "source": [
    "import seaborn as sns\n",
    "sns.boxplot(x = 'mcap_category', y = 'perc_change', data=tech_stocks)\n",
    "plt.xlabel('Market Capitalization Category')\n",
    "plt.ylabel('Percentage Change')\n",
    "plt.title('Percentage Change for different Market Cap', fontsize = 14)"
   ]
  }
 ],
 "metadata": {
  "kernelspec": {
   "display_name": "Python 3",
   "language": "python",
   "name": "python3"
  },
  "language_info": {
   "codemirror_mode": {
    "name": "ipython",
    "version": 3
   },
   "file_extension": ".py",
   "mimetype": "text/x-python",
   "name": "python",
   "nbconvert_exporter": "python",
   "pygments_lexer": "ipython3",
   "version": "3.7.1"
  }
 },
 "nbformat": 4,
 "nbformat_minor": 2
}
